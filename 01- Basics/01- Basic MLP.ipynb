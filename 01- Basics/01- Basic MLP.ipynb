{
 "cells": [
  {
   "cell_type": "markdown",
   "id": "e45966e8-e23b-4125-ad26-e51e5ab2ee18",
   "metadata": {},
   "source": [
    "# Basic Multi Layer Perceptron (MLP) Neural Network"
   ]
  },
  {
   "cell_type": "code",
   "execution_count": 1,
   "id": "7c753faf-ca4f-4022-a55d-8828c5b4a3ec",
   "metadata": {},
   "outputs": [],
   "source": [
    "import numpy as np\n",
    "import os\n",
    "\n",
    "from tensorflow import keras\n",
    "from keras import Sequential\n",
    "from keras.layers import Input, Dense\n",
    "from keras.datasets import mnist\n",
    "\n",
    "import cv2\n",
    "\n",
    "import matplotlib.pyplot as plt"
   ]
  },
  {
   "cell_type": "code",
   "execution_count": 2,
   "id": "cfd917c2-8785-4d3a-ba4a-f6b8fc3d0c65",
   "metadata": {},
   "outputs": [],
   "source": [
    "# !wget https://storage.googleapis.com/tensorflow/tf-keras-datasets/mnist.npz"
   ]
  },
  {
   "cell_type": "code",
   "execution_count": 3,
   "id": "cfa20bf9-7586-4019-a9b7-90cd534e2dbc",
   "metadata": {},
   "outputs": [],
   "source": [
    "# load mnist dataset\n",
    "(x_train_org, y_train_org), (x_test_org, y_test_org) = mnist.load_data(path='../datasets/mnist.npz')"
   ]
  },
  {
   "cell_type": "code",
   "execution_count": 4,
   "id": "ec0e931e-6402-4d33-983d-8ed81699bde9",
   "metadata": {},
   "outputs": [
    {
     "name": "stdout",
     "output_type": "stream",
     "text": [
      "Train data shape: (60000, 28, 28)\n",
      "Test  data shape: (10000, 28, 28)\n"
     ]
    }
   ],
   "source": [
    "# dataset shapes\n",
    "print('Train data shape:', x_train_org.shape)\n",
    "print('Test  data shape:', x_test_org.shape)"
   ]
  },
  {
   "cell_type": "code",
   "execution_count": 5,
   "id": "c39d723d-e579-4035-9712-35fac91d712e",
   "metadata": {},
   "outputs": [
    {
     "name": "stdout",
     "output_type": "stream",
     "text": [
      "Number =  5\n"
     ]
    },
    {
     "data": {
      "text/plain": [
       "<matplotlib.image.AxesImage at 0x15761e584d0>"
      ]
     },
     "execution_count": 5,
     "metadata": {},
     "output_type": "execute_result"
    },
    {
     "data": {
      "image/png": "[encoded data removed]",
      "text/plain": [
       "<Figure size 640x480 with 1 Axes>"
      ]
     },
     "metadata": {},
     "output_type": "display_data"
    }
   ],
   "source": [
    "# preview image\n",
    "print('Number = ', y_train_org[0])\n",
    "plt.imshow(x_train_org[0], cmap='gray')"
   ]
  },
  {
   "cell_type": "code",
   "execution_count": 6,
   "id": "1e7e867f-9e68-48bf-99c9-64907e93d265",
   "metadata": {},
   "outputs": [],
   "source": [
    "# Shrink image size\n",
    "im_size = 6\n",
    "x_train_conv = [cv2.resize(img, dsize=(im_size, im_size)) for img in x_train_org]\n",
    "x_test_conv = [cv2.resize(img, dsize=(im_size, im_size)) for img in x_test_org]"
   ]
  },
  {
   "cell_type": "code",
   "execution_count": 7,
   "id": "8265a424-cab7-4a70-adb6-69dc9a03ee94",
   "metadata": {},
   "outputs": [
    {
     "name": "stdout",
     "output_type": "stream",
     "text": [
      "Train data shape: (60000, 6, 6)\n",
      "Test  data shape: (10000, 6, 6)\n"
     ]
    }
   ],
   "source": [
    "# new dataset shapes\n",
    "print('Train data shape:', np.shape(x_train_conv))\n",
    "print('Test  data shape:', np.shape(x_test_conv))"
   ]
  },
  {
   "cell_type": "code",
   "execution_count": 8,
   "id": "561da5f3-63b6-4c1c-b63b-42026bb8bd16",
   "metadata": {},
   "outputs": [
    {
     "name": "stdout",
     "output_type": "stream",
     "text": [
      "Number =  5\n"
     ]
    },
    {
     "data": {
      "text/plain": [
       "<matplotlib.image.AxesImage at 0x157661ae710>"
      ]
     },
     "execution_count": 8,
     "metadata": {},
     "output_type": "execute_result"
    },
    {
     "data": {
      "image/png": "[encoded data removed]",
      "text/plain": [
       "<Figure size 640x480 with 1 Axes>"
      ]
     },
     "metadata": {},
     "output_type": "display_data"
    }
   ],
   "source": [
    "# new dataset element preview\n",
    "print('Number = ', y_train_org[0])\n",
    "plt.imshow(x_train_conv[0], cmap='gray')"
   ]
  },
  {
   "cell_type": "code",
   "execution_count": 9,
   "id": "ab3a5d18-31e5-428a-bbdd-ab9b36cf90db",
   "metadata": {},
   "outputs": [],
   "source": [
    "# Faltten Image (convert matrix to vector)\n",
    "# Model acceptable shape (number of samples, number of features)\n",
    "x_train = np.reshape(x_train_conv, [-1, im_size**2])\n",
    "x_test = np.reshape(x_test_conv, [-1, im_size**2])\n"
   ]
  },
  {
   "cell_type": "code",
   "execution_count": 10,
   "id": "9674e00a-7646-4078-92b5-bdecfb35f9f8",
   "metadata": {},
   "outputs": [
    {
     "name": "stdout",
     "output_type": "stream",
     "text": [
      "Train data shape: (60000, 36)\n",
      "Test  data shape: (10000, 36)\n"
     ]
    }
   ],
   "source": [
    "# dataset shapes, after flattening images\n",
    "print('Train data shape:', np.shape(x_train))\n",
    "print('Test  data shape:', np.shape(x_test))"
   ]
  },
  {
   "cell_type": "code",
   "execution_count": 11,
   "id": "ace2d6d7-f6e5-499e-ba6e-360cda983a3d",
   "metadata": {},
   "outputs": [
    {
     "data": {
      "text/plain": [
       "10"
      ]
     },
     "execution_count": 11,
     "metadata": {},
     "output_type": "execute_result"
    }
   ],
   "source": [
    "y_train_org.max() + 1"
   ]
  },
  {
   "cell_type": "code",
   "execution_count": 12,
   "id": "680a252f-6076-4f26-9576-05940bf640e7",
   "metadata": {},
   "outputs": [],
   "source": [
    "# One hot labels to use by model [based on soft max]\n",
    "y_train = keras.utils.to_categorical(y_train_org, num_classes=10)\n",
    "y_test = keras.utils.to_categorical(y_test_org, num_classes=10)\n"
   ]
  },
  {
   "cell_type": "code",
   "execution_count": 13,
   "id": "7d54e685-6e82-4205-81c9-a3802f98ff71",
   "metadata": {},
   "outputs": [
    {
     "data": {
      "text/plain": [
       "5"
      ]
     },
     "execution_count": 13,
     "metadata": {},
     "output_type": "execute_result"
    }
   ],
   "source": [
    "y_train[0].argmax()"
   ]
  },
  {
   "cell_type": "code",
   "execution_count": 14,
   "id": "a3c8f462-5510-4f72-a3cc-7b80af334be5",
   "metadata": {},
   "outputs": [],
   "source": [
    "# Normalize data\n",
    "# use data type = float32 / may study on mixed precison\n",
    "x_train = x_train.astype('float32') \n",
    "x_test = x_train.astype('float32') \n",
    "\n",
    "x_train/= 255\n",
    "x_test/= 255"
   ]
  },
  {
   "cell_type": "code",
   "execution_count": 39,
   "id": "26fb3a97-69ae-4c6a-90f0-c0640df5b527",
   "metadata": {},
   "outputs": [
    {
     "name": "stderr",
     "output_type": "stream",
     "text": [
      "C:\\ProgramData\\anaconda3\\Lib\\site-packages\\keras\\src\\layers\\core\\dense.py:87: UserWarning: Do not pass an `input_shape`/`input_dim` argument to a layer. When using Sequential models, prefer using an `Input(shape)` object as the first layer in the model instead.\n",
      "  super().__init__(activity_regularizer=activity_regularizer, **kwargs)\n"
     ]
    }
   ],
   "source": [
    "# Create model architectue\n",
    "model = Sequential()\n",
    "model.add(Dense(64, activation='relu', input_shape=(36,)))\n",
    "model.add(Dense(10, activation='softmax'))\n"
   ]
  },
  {
   "cell_type": "code",
   "execution_count": 40,
   "id": "2a97a8f5-406d-4584-82e7-fe04cec97a88",
   "metadata": {},
   "outputs": [
    {
     "data": {
      "text/html": [
       "<pre style=\"white-space:pre;overflow-x:auto;line-height:normal;font-family:Menlo,'DejaVu Sans Mono',consolas,'Courier New',monospace\"><span style=\"font-weight: bold\">Model: \"sequential_4\"</span>\n",
       "</pre>\n"
      ],
      "text/plain": [
       "\u001b[1mModel: \"sequential_4\"\u001b[0m\n"
      ]
     },
     "metadata": {},
     "output_type": "display_data"
    },
    {
     "data": {
      "text/html": [
       "<pre style=\"white-space:pre;overflow-x:auto;line-height:normal;font-family:Menlo,'DejaVu Sans Mono',consolas,'Courier New',monospace\">┏━━━━━━━━━━━━━━━━━━━━━━━━━━━━━━━━━━━━━━┳━━━━━━━━━━━━━━━━━━━━━━━━━━━━━┳━━━━━━━━━━━━━━━━━┓\n",
       "┃<span style=\"font-weight: bold\"> Layer (type)                         </span>┃<span style=\"font-weight: bold\"> Output Shape                </span>┃<span style=\"font-weight: bold\">         Param # </span>┃\n",
       "┡━━━━━━━━━━━━━━━━━━━━━━━━━━━━━━━━━━━━━━╇━━━━━━━━━━━━━━━━━━━━━━━━━━━━━╇━━━━━━━━━━━━━━━━━┩\n",
       "│ dense_4 (<span style=\"color: #0087ff; text-decoration-color: #0087ff\">Dense</span>)                      │ (<span style=\"color: #00d7ff; text-decoration-color: #00d7ff\">None</span>, <span style=\"color: #00af00; text-decoration-color: #00af00\">64</span>)                  │           <span style=\"color: #00af00; text-decoration-color: #00af00\">2,368</span> │\n",
       "├──────────────────────────────────────┼─────────────────────────────┼─────────────────┤\n",
       "│ dense_5 (<span style=\"color: #0087ff; text-decoration-color: #0087ff\">Dense</span>)                      │ (<span style=\"color: #00d7ff; text-decoration-color: #00d7ff\">None</span>, <span style=\"color: #00af00; text-decoration-color: #00af00\">10</span>)                  │             <span style=\"color: #00af00; text-decoration-color: #00af00\">650</span> │\n",
       "└──────────────────────────────────────┴─────────────────────────────┴─────────────────┘\n",
       "</pre>\n"
      ],
      "text/plain": [
       "┏━━━━━━━━━━━━━━━━━━━━━━━━━━━━━━━━━━━━━━┳━━━━━━━━━━━━━━━━━━━━━━━━━━━━━┳━━━━━━━━━━━━━━━━━┓\n",
       "┃\u001b[1m \u001b[0m\u001b[1mLayer (type)                        \u001b[0m\u001b[1m \u001b[0m┃\u001b[1m \u001b[0m\u001b[1mOutput Shape               \u001b[0m\u001b[1m \u001b[0m┃\u001b[1m \u001b[0m\u001b[1m        Param #\u001b[0m\u001b[1m \u001b[0m┃\n",
       "┡━━━━━━━━━━━━━━━━━━━━━━━━━━━━━━━━━━━━━━╇━━━━━━━━━━━━━━━━━━━━━━━━━━━━━╇━━━━━━━━━━━━━━━━━┩\n",
       "│ dense_4 (\u001b[38;5;33mDense\u001b[0m)                      │ (\u001b[38;5;45mNone\u001b[0m, \u001b[38;5;34m64\u001b[0m)                  │           \u001b[38;5;34m2,368\u001b[0m │\n",
       "├──────────────────────────────────────┼─────────────────────────────┼─────────────────┤\n",
       "│ dense_5 (\u001b[38;5;33mDense\u001b[0m)                      │ (\u001b[38;5;45mNone\u001b[0m, \u001b[38;5;34m10\u001b[0m)                  │             \u001b[38;5;34m650\u001b[0m │\n",
       "└──────────────────────────────────────┴─────────────────────────────┴─────────────────┘\n"
      ]
     },
     "metadata": {},
     "output_type": "display_data"
    },
    {
     "data": {
      "text/html": [
       "<pre style=\"white-space:pre;overflow-x:auto;line-height:normal;font-family:Menlo,'DejaVu Sans Mono',consolas,'Courier New',monospace\"><span style=\"font-weight: bold\"> Total params: </span><span style=\"color: #00af00; text-decoration-color: #00af00\">3,018</span> (11.79 KB)\n",
       "</pre>\n"
      ],
      "text/plain": [
       "\u001b[1m Total params: \u001b[0m\u001b[38;5;34m3,018\u001b[0m (11.79 KB)\n"
      ]
     },
     "metadata": {},
     "output_type": "display_data"
    },
    {
     "data": {
      "text/html": [
       "<pre style=\"white-space:pre;overflow-x:auto;line-height:normal;font-family:Menlo,'DejaVu Sans Mono',consolas,'Courier New',monospace\"><span style=\"font-weight: bold\"> Trainable params: </span><span style=\"color: #00af00; text-decoration-color: #00af00\">3,018</span> (11.79 KB)\n",
       "</pre>\n"
      ],
      "text/plain": [
       "\u001b[1m Trainable params: \u001b[0m\u001b[38;5;34m3,018\u001b[0m (11.79 KB)\n"
      ]
     },
     "metadata": {},
     "output_type": "display_data"
    },
    {
     "data": {
      "text/html": [
       "<pre style=\"white-space:pre;overflow-x:auto;line-height:normal;font-family:Menlo,'DejaVu Sans Mono',consolas,'Courier New',monospace\"><span style=\"font-weight: bold\"> Non-trainable params: </span><span style=\"color: #00af00; text-decoration-color: #00af00\">0</span> (0.00 B)\n",
       "</pre>\n"
      ],
      "text/plain": [
       "\u001b[1m Non-trainable params: \u001b[0m\u001b[38;5;34m0\u001b[0m (0.00 B)\n"
      ]
     },
     "metadata": {},
     "output_type": "display_data"
    }
   ],
   "source": [
    "model.summary()"
   ]
  },
  {
   "cell_type": "code",
   "execution_count": 41,
   "id": "abc6eb58-411c-49c0-9f2c-0153ccdfbd5a",
   "metadata": {},
   "outputs": [
    {
     "name": "stdout",
     "output_type": "stream",
     "text": [
      "layer 1 params: 2368\n",
      "layer 2 params: 650\n",
      "Total params: 3018\n"
     ]
    }
   ],
   "source": [
    "# Explain model parameters\n",
    "# layer 1: current layer neurons * last layer neurons + current layer bias\n",
    "l1_params = 64 * 36 + 64\n",
    "print('layer 1 params:', l1_params)\n",
    "\n",
    "# layer 2: current layer neurons * last layer neurons + current layer bias\n",
    "l2_params = 10 * 64 + 10\n",
    "print('layer 2 params:', l2_params )\n",
    "\n",
    "print('Total params:', l1_params + l2_params )\n"
   ]
  },
  {
   "cell_type": "code",
   "execution_count": 21,
   "id": "505afabd-0000-4340-aa2b-f0e666a51c4b",
   "metadata": {},
   "outputs": [],
   "source": [
    "# Compile Model"
   ]
  },
  {
   "cell_type": "code",
   "execution_count": 22,
   "id": "d19f4f35-0785-4ab8-ad53-4f19d198f4d2",
   "metadata": {},
   "outputs": [],
   "source": [
    "# Fit (learn) model"
   ]
  },
  {
   "cell_type": "code",
   "execution_count": null,
   "id": "b68847ab-0050-4bd6-a361-569b9bfd9dfc",
   "metadata": {},
   "outputs": [],
   "source": []
  }
 ],
 "metadata": {
  "kernelspec": {
   "display_name": "Python 3 (ipykernel)",
   "language": "python",
   "name": "python3"
  },
  "language_info": {
   "codemirror_mode": {
    "name": "ipython",
    "version": 3
   },
   "file_extension": ".py",
   "mimetype": "text/x-python",
   "name": "python",
   "nbconvert_exporter": "python",
   "pygments_lexer": "ipython3",
   "version": "3.11.7"
  }
 },
 "nbformat": 4,
 "nbformat_minor": 5
}
