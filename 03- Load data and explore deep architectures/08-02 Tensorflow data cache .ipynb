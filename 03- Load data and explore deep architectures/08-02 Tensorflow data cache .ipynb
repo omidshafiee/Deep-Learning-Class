{
 "cells": [
  {
   "cell_type": "code",
   "execution_count": 1,
   "id": "75cf60e2-e25c-4243-af7d-b05b4b01bc50",
   "metadata": {},
   "outputs": [],
   "source": [
    "import tensorflow as tf\n",
    "from time import time"
   ]
  },
  {
   "cell_type": "code",
   "execution_count": 2,
   "id": "d55fd813-8890-496a-9ed3-a3006fed9b0f",
   "metadata": {},
   "outputs": [],
   "source": [
    "dataset = tf.data.Dataset.range(10000)"
   ]
  },
  {
   "cell_type": "code",
   "execution_count": 3,
   "id": "8e8b4b4d-3e7c-44df-9567-e5c5e15547c6",
   "metadata": {},
   "outputs": [
    {
     "name": "stdout",
     "output_type": "stream",
     "text": [
      "0\n",
      "1\n",
      "2\n",
      "3\n",
      "4\n"
     ]
    }
   ],
   "source": [
    "for i in dataset.take(5):\n",
    "    print(i.numpy())\n"
   ]
  },
  {
   "cell_type": "code",
   "execution_count": 9,
   "id": "1567e151-aa90-4ea2-8714-20b3e5730d43",
   "metadata": {},
   "outputs": [],
   "source": [
    "# %%time\n",
    "# generate a polynomial calculation to make heavy process\n",
    "dataset = dataset.map(lambda x: sum(x ** i for i in range(1000)))\n",
    "dataset = dataset.cache()"
   ]
  },
  {
   "cell_type": "code",
   "execution_count": 10,
   "id": "f36ef9e2-5c7e-4c1e-b70c-753edbeee8f1",
   "metadata": {},
   "outputs": [
    {
     "name": "stdout",
     "output_type": "stream",
     "text": [
      "calculation time:  13.86\n",
      "CPU times: total: 1min 22s\n",
      "Wall time: 13.9 s\n"
     ]
    }
   ],
   "source": [
    "%%time\n",
    "# First time run, reads data will generate the data using 'range' and 'map'\n",
    "tik = time()\n",
    "list(dataset.as_numpy_iterator())\n",
    "tok=time()\n",
    "print('calculation time: ', round(tok - tik, 2))"
   ]
  },
  {
   "cell_type": "code",
   "execution_count": 12,
   "id": "e85f11f7-5343-42a7-8bf8-5e9ce0f6e74f",
   "metadata": {},
   "outputs": [
    {
     "name": "stdout",
     "output_type": "stream",
     "text": [
      "calculation time:  1.55\n",
      "CPU times: total: 1.69 s\n",
      "Wall time: 1.55 s\n"
     ]
    }
   ],
   "source": [
    "%%time\n",
    "# Second time run, read data from the cache\n",
    "tik = time()\n",
    "list(dataset.as_numpy_iterator())\n",
    "tok=time()\n",
    "print('calculation time: ', round(tok - tik, 2))"
   ]
  },
  {
   "cell_type": "code",
   "execution_count": null,
   "id": "5e94385b-18fd-4dff-9752-404d5c895f13",
   "metadata": {},
   "outputs": [],
   "source": []
  },
  {
   "cell_type": "markdown",
   "id": "0ffee0f8-fbe7-4033-8cd5-1dfba1e3d451",
   "metadata": {},
   "source": [
    "### Also can cache on disk instead of memory"
   ]
  }
 ],
 "metadata": {
  "kernelspec": {
   "display_name": "Python 3 (ipykernel)",
   "language": "python",
   "name": "python3"
  },
  "language_info": {
   "codemirror_mode": {
    "name": "ipython",
    "version": 3
   },
   "file_extension": ".py",
   "mimetype": "text/x-python",
   "name": "python",
   "nbconvert_exporter": "python",
   "pygments_lexer": "ipython3",
   "version": "3.11.7"
  }
 },
 "nbformat": 4,
 "nbformat_minor": 5
}
