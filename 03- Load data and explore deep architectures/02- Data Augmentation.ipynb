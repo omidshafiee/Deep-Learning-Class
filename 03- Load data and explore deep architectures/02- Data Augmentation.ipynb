{
 "cells": [
  {
   "cell_type": "code",
   "execution_count": 1,
   "id": "a2e77dab-109f-4502-af67-e2960253b9e7",
   "metadata": {},
   "outputs": [],
   "source": [
    "from image_loader import load_dogs_vs_cats"
   ]
  },
  {
   "cell_type": "code",
   "execution_count": 2,
   "id": "66c44475-7233-4605-b832-71f7a5336336",
   "metadata": {},
   "outputs": [],
   "source": [
    "# Original dataset directory\n",
    "original_dir = r'D:\\Class\\Deep Learning Class\\datasets\\dogs-vs-cats\\train'\n",
    "\n",
    "# Base dir\n",
    "base_dir=r'D:\\Class\\Deep Learning Class\\03- Load data and explore deep architectures\\dogs-vs-cats'\n"
   ]
  },
  {
   "cell_type": "code",
   "execution_count": 4,
   "id": "55a0f469-2179-4271-9962-0d2845f278c6",
   "metadata": {},
   "outputs": [
    {
     "name": "stdout",
     "output_type": "stream",
     "text": [
      "total training cat images:  1000\n",
      "total validation cat images:  1000\n",
      "total test cat images:  500\n",
      "\n",
      "total training dog images:  1000\n",
      "total validation dog images:  500\n",
      "total test dog images:  500\n"
     ]
    }
   ],
   "source": [
    "load_dogs_vs_cats(original_dir, base_dir)"
   ]
  },
  {
   "cell_type": "code",
   "execution_count": null,
   "id": "37ecb753-5f94-4c8c-960a-d5e5ccd4c87e",
   "metadata": {},
   "outputs": [],
   "source": []
  },
  {
   "cell_type": "code",
   "execution_count": null,
   "id": "2cf4c036-97a0-4169-a846-1ecded99d6e0",
   "metadata": {},
   "outputs": [],
   "source": []
  }
 ],
 "metadata": {
  "kernelspec": {
   "display_name": "Python 3 (ipykernel)",
   "language": "python",
   "name": "python3"
  },
  "language_info": {
   "codemirror_mode": {
    "name": "ipython",
    "version": 3
   },
   "file_extension": ".py",
   "mimetype": "text/x-python",
   "name": "python",
   "nbconvert_exporter": "python",
   "pygments_lexer": "ipython3",
   "version": "3.11.7"
  }
 },
 "nbformat": 4,
 "nbformat_minor": 5
}
