{
 "cells": [
  {
   "cell_type": "markdown",
   "id": "e45966e8-e23b-4125-ad26-e51e5ab2ee18",
   "metadata": {},
   "source": [
    "# Basic Multi Layer Perceptron (MLP) Neural Network"
   ]
  },
  {
   "cell_type": "code",
   "execution_count": 1,
   "id": "7c753faf-ca4f-4022-a55d-8828c5b4a3ec",
   "metadata": {},
   "outputs": [],
   "source": [
    "import numpy as np\n",
    "import os\n",
    "\n",
    "import tensorflow as tf\n",
    "from tensorflow import keras\n",
    "from keras import Sequential\n",
    "from keras.layers import Input, Dense\n",
    "from keras.datasets import mnist\n",
    "\n",
    "import cv2\n",
    "\n",
    "import matplotlib.pyplot as plt"
   ]
  },
  {
   "cell_type": "code",
   "execution_count": 2,
   "id": "cfd917c2-8785-4d3a-ba4a-f6b8fc3d0c65",
   "metadata": {},
   "outputs": [],
   "source": [
    "# !wget https://storage.googleapis.com/tensorflow/tf-keras-datasets/mnist.npz"
   ]
  },
  {
   "cell_type": "code",
   "execution_count": 3,
   "id": "cfa20bf9-7586-4019-a9b7-90cd534e2dbc",
   "metadata": {},
   "outputs": [],
   "source": [
    "# load mnist dataset\n",
    "(x_train_org, y_train_org), (x_test_org, y_test_org) = mnist.load_data(path='../datasets/mnist.npz')"
   ]
  },
  {
   "cell_type": "code",
   "execution_count": 4,
   "id": "ec0e931e-6402-4d33-983d-8ed81699bde9",
   "metadata": {},
   "outputs": [
    {
     "name": "stdout",
     "output_type": "stream",
     "text": [
      "Train data shape: (60000, 28, 28)\n",
      "Test  data shape: (10000, 28, 28)\n"
     ]
    }
   ],
   "source": [
    "# dataset shapes\n",
    "print('Train data shape:', x_train_org.shape)\n",
    "print('Test  data shape:', x_test_org.shape)"
   ]
  },
  {
   "cell_type": "code",
   "execution_count": 5,
   "id": "c39d723d-e579-4035-9712-35fac91d712e",
   "metadata": {},
   "outputs": [
    {
     "name": "stdout",
     "output_type": "stream",
     "text": [
      "Number =  5\n"
     ]
    },
    {
     "data": {
      "text/plain": [
       "<matplotlib.image.AxesImage at 0x19f0fcb0210>"
      ]
     },
     "execution_count": 5,
     "metadata": {},
     "output_type": "execute_result"
    },
    {
     "data": {
      "image/png": "[encoded data removed]",
      "text/plain": [
       "<Figure size 640x480 with 1 Axes>"
      ]
     },
     "metadata": {},
     "output_type": "display_data"
    }
   ],
   "source": [
    "# preview image\n",
    "print('Number = ', y_train_org[0])\n",
    "plt.imshow(x_train_org[0], cmap='gray')"
   ]
  },
  {
   "cell_type": "code",
   "execution_count": 6,
   "id": "1e7e867f-9e68-48bf-99c9-64907e93d265",
   "metadata": {},
   "outputs": [],
   "source": [
    "# Shrink image size\n",
    "im_size = 15\n",
    "x_train_conv = [cv2.resize(img, dsize=(im_size, im_size)) for img in x_train_org]\n",
    "x_test_conv = [cv2.resize(img, dsize=(im_size, im_size)) for img in x_test_org]"
   ]
  },
  {
   "cell_type": "code",
   "execution_count": 7,
   "id": "8265a424-cab7-4a70-adb6-69dc9a03ee94",
   "metadata": {},
   "outputs": [
    {
     "name": "stdout",
     "output_type": "stream",
     "text": [
      "Train data shape: (60000, 10, 10)\n",
      "Test  data shape: (10000, 10, 10)\n"
     ]
    }
   ],
   "source": [
    "# new dataset shapes\n",
    "print('Train data shape:', np.shape(x_train_conv))\n",
    "print('Test  data shape:', np.shape(x_test_conv))"
   ]
  },
  {
   "cell_type": "code",
   "execution_count": 8,
   "id": "561da5f3-63b6-4c1c-b63b-42026bb8bd16",
   "metadata": {},
   "outputs": [
    {
     "name": "stdout",
     "output_type": "stream",
     "text": [
      "Number =  5\n"
     ]
    },
    {
     "data": {
      "text/plain": [
       "<matplotlib.image.AxesImage at 0x19f140bf8d0>"
      ]
     },
     "execution_count": 8,
     "metadata": {},
     "output_type": "execute_result"
    },
    {
     "data": {
      "image/png": "[encoded data removed]",
      "text/plain": [
       "<Figure size 640x480 with 1 Axes>"
      ]
     },
     "metadata": {},
     "output_type": "display_data"
    }
   ],
   "source": [
    "# new dataset element preview\n",
    "print('Number = ', y_train_org[0])\n",
    "plt.imshow(x_train_conv[0], cmap='gray')"
   ]
  },
  {
   "cell_type": "code",
   "execution_count": 9,
   "id": "ab3a5d18-31e5-428a-bbdd-ab9b36cf90db",
   "metadata": {},
   "outputs": [],
   "source": [
    "# Faltten Image (convert matrix to vector)\n",
    "# Model acceptable shape (number of samples, number of features)\n",
    "x_train = np.reshape(x_train_conv, [-1, im_size**2])\n",
    "x_test = np.reshape(x_test_conv, [-1, im_size**2])\n"
   ]
  },
  {
   "cell_type": "code",
   "execution_count": 10,
   "id": "9674e00a-7646-4078-92b5-bdecfb35f9f8",
   "metadata": {},
   "outputs": [
    {
     "name": "stdout",
     "output_type": "stream",
     "text": [
      "Train data shape: (60000, 100)\n",
      "Test  data shape: (10000, 100)\n"
     ]
    }
   ],
   "source": [
    "# dataset shapes, after flattening images\n",
    "print('Train data shape:', np.shape(x_train))\n",
    "print('Test  data shape:', np.shape(x_test))"
   ]
  },
  {
   "cell_type": "code",
   "execution_count": 11,
   "id": "ace2d6d7-f6e5-499e-ba6e-360cda983a3d",
   "metadata": {},
   "outputs": [
    {
     "data": {
      "text/plain": [
       "10"
      ]
     },
     "execution_count": 11,
     "metadata": {},
     "output_type": "execute_result"
    }
   ],
   "source": [
    "y_train_org.max() + 1"
   ]
  },
  {
   "cell_type": "code",
   "execution_count": 12,
   "id": "680a252f-6076-4f26-9576-05940bf640e7",
   "metadata": {},
   "outputs": [],
   "source": [
    "# One hot labels to use by model [based on soft max]\n",
    "y_train = keras.utils.to_categorical(y_train_org, num_classes=10)\n",
    "y_test = keras.utils.to_categorical(y_test_org, num_classes=10)\n"
   ]
  },
  {
   "cell_type": "code",
   "execution_count": 13,
   "id": "c9d65b5a-1394-4aff-9567-b67ebd8b2ecf",
   "metadata": {},
   "outputs": [
    {
     "name": "stdout",
     "output_type": "stream",
     "text": [
      "Train label shape: (60000, 10)\n",
      "Test  label shape: (10000, 10)\n"
     ]
    }
   ],
   "source": [
    "print('Train label shape:', np.shape(y_train))\n",
    "print('Test  label shape:', np.shape(y_test))"
   ]
  },
  {
   "cell_type": "code",
   "execution_count": 14,
   "id": "7d54e685-6e82-4205-81c9-a3802f98ff71",
   "metadata": {},
   "outputs": [
    {
     "name": "stdout",
     "output_type": "stream",
     "text": [
      "[0. 0. 0. 0. 0. 0. 0. 1. 0. 0.]\n",
      "7\n"
     ]
    }
   ],
   "source": [
    "print(y_test[0])\n",
    "print(y_test[0].argmax())"
   ]
  },
  {
   "cell_type": "code",
   "execution_count": 15,
   "id": "a3c8f462-5510-4f72-a3cc-7b80af334be5",
   "metadata": {},
   "outputs": [],
   "source": [
    "# Normalize data\n",
    "# use data type = float32 / may study on mixed precison\n",
    "x_train = x_train.astype('float32') \n",
    "x_test = x_test.astype('float32') \n",
    "\n",
    "x_train/= 255\n",
    "x_test/= 255"
   ]
  },
  {
   "cell_type": "code",
   "execution_count": 16,
   "id": "a0aef7a0-0e15-48d3-8e6a-2b9abe0021ef",
   "metadata": {},
   "outputs": [
    {
     "name": "stdout",
     "output_type": "stream",
     "text": [
      "Train data shape: (60000, 100)\n",
      "Test  data shape: (10000, 100)\n"
     ]
    }
   ],
   "source": [
    "# Only values change and shape remain as before\n",
    "print('Train data shape:', np.shape(x_train))\n",
    "print('Test  data shape:', np.shape(x_test))"
   ]
  },
  {
   "cell_type": "markdown",
   "id": "d1cfa1cb-86f5-4675-9309-05159291f027",
   "metadata": {},
   "source": [
    "## Model"
   ]
  },
  {
   "cell_type": "code",
   "execution_count": 17,
   "id": "108f9492-9720-426e-8f03-77207d0b5283",
   "metadata": {},
   "outputs": [
    {
     "name": "stderr",
     "output_type": "stream",
     "text": [
      "C:\\ProgramData\\anaconda3\\Lib\\site-packages\\keras\\src\\layers\\core\\dense.py:87: UserWarning: Do not pass an `input_shape`/`input_dim` argument to a layer. When using Sequential models, prefer using an `Input(shape)` object as the first layer in the model instead.\n",
      "  super().__init__(activity_regularizer=activity_regularizer, **kwargs)\n"
     ]
    }
   ],
   "source": [
    "# Create model architectue\n",
    "model = Sequential()\n",
    "model.add(Dense(64, activation='relu', input_shape=(im_size**2,)))\n",
    "model.add(Dense(10, activation='softmax'))\n"
   ]
  },
  {
   "cell_type": "code",
   "execution_count": 18,
   "id": "2a97a8f5-406d-4584-82e7-fe04cec97a88",
   "metadata": {},
   "outputs": [
    {
     "data": {
      "text/html": [
       "<pre style=\"white-space:pre;overflow-x:auto;line-height:normal;font-family:Menlo,'DejaVu Sans Mono',consolas,'Courier New',monospace\"><span style=\"font-weight: bold\">Model: \"sequential\"</span>\n",
       "</pre>\n"
      ],
      "text/plain": [
       "\u001b[1mModel: \"sequential\"\u001b[0m\n"
      ]
     },
     "metadata": {},
     "output_type": "display_data"
    },
    {
     "data": {
      "text/html": [
       "<pre style=\"white-space:pre;overflow-x:auto;line-height:normal;font-family:Menlo,'DejaVu Sans Mono',consolas,'Courier New',monospace\">┏━━━━━━━━━━━━━━━━━━━━━━━━━━━━━━━━━━━━━━┳━━━━━━━━━━━━━━━━━━━━━━━━━━━━━┳━━━━━━━━━━━━━━━━━┓\n",
       "┃<span style=\"font-weight: bold\"> Layer (type)                         </span>┃<span style=\"font-weight: bold\"> Output Shape                </span>┃<span style=\"font-weight: bold\">         Param # </span>┃\n",
       "┡━━━━━━━━━━━━━━━━━━━━━━━━━━━━━━━━━━━━━━╇━━━━━━━━━━━━━━━━━━━━━━━━━━━━━╇━━━━━━━━━━━━━━━━━┩\n",
       "│ dense (<span style=\"color: #0087ff; text-decoration-color: #0087ff\">Dense</span>)                        │ (<span style=\"color: #00d7ff; text-decoration-color: #00d7ff\">None</span>, <span style=\"color: #00af00; text-decoration-color: #00af00\">64</span>)                  │           <span style=\"color: #00af00; text-decoration-color: #00af00\">6,464</span> │\n",
       "├──────────────────────────────────────┼─────────────────────────────┼─────────────────┤\n",
       "│ dense_1 (<span style=\"color: #0087ff; text-decoration-color: #0087ff\">Dense</span>)                      │ (<span style=\"color: #00d7ff; text-decoration-color: #00d7ff\">None</span>, <span style=\"color: #00af00; text-decoration-color: #00af00\">10</span>)                  │             <span style=\"color: #00af00; text-decoration-color: #00af00\">650</span> │\n",
       "└──────────────────────────────────────┴─────────────────────────────┴─────────────────┘\n",
       "</pre>\n"
      ],
      "text/plain": [
       "┏━━━━━━━━━━━━━━━━━━━━━━━━━━━━━━━━━━━━━━┳━━━━━━━━━━━━━━━━━━━━━━━━━━━━━┳━━━━━━━━━━━━━━━━━┓\n",
       "┃\u001b[1m \u001b[0m\u001b[1mLayer (type)                        \u001b[0m\u001b[1m \u001b[0m┃\u001b[1m \u001b[0m\u001b[1mOutput Shape               \u001b[0m\u001b[1m \u001b[0m┃\u001b[1m \u001b[0m\u001b[1m        Param #\u001b[0m\u001b[1m \u001b[0m┃\n",
       "┡━━━━━━━━━━━━━━━━━━━━━━━━━━━━━━━━━━━━━━╇━━━━━━━━━━━━━━━━━━━━━━━━━━━━━╇━━━━━━━━━━━━━━━━━┩\n",
       "│ dense (\u001b[38;5;33mDense\u001b[0m)                        │ (\u001b[38;5;45mNone\u001b[0m, \u001b[38;5;34m64\u001b[0m)                  │           \u001b[38;5;34m6,464\u001b[0m │\n",
       "├──────────────────────────────────────┼─────────────────────────────┼─────────────────┤\n",
       "│ dense_1 (\u001b[38;5;33mDense\u001b[0m)                      │ (\u001b[38;5;45mNone\u001b[0m, \u001b[38;5;34m10\u001b[0m)                  │             \u001b[38;5;34m650\u001b[0m │\n",
       "└──────────────────────────────────────┴─────────────────────────────┴─────────────────┘\n"
      ]
     },
     "metadata": {},
     "output_type": "display_data"
    },
    {
     "data": {
      "text/html": [
       "<pre style=\"white-space:pre;overflow-x:auto;line-height:normal;font-family:Menlo,'DejaVu Sans Mono',consolas,'Courier New',monospace\"><span style=\"font-weight: bold\"> Total params: </span><span style=\"color: #00af00; text-decoration-color: #00af00\">7,114</span> (27.79 KB)\n",
       "</pre>\n"
      ],
      "text/plain": [
       "\u001b[1m Total params: \u001b[0m\u001b[38;5;34m7,114\u001b[0m (27.79 KB)\n"
      ]
     },
     "metadata": {},
     "output_type": "display_data"
    },
    {
     "data": {
      "text/html": [
       "<pre style=\"white-space:pre;overflow-x:auto;line-height:normal;font-family:Menlo,'DejaVu Sans Mono',consolas,'Courier New',monospace\"><span style=\"font-weight: bold\"> Trainable params: </span><span style=\"color: #00af00; text-decoration-color: #00af00\">7,114</span> (27.79 KB)\n",
       "</pre>\n"
      ],
      "text/plain": [
       "\u001b[1m Trainable params: \u001b[0m\u001b[38;5;34m7,114\u001b[0m (27.79 KB)\n"
      ]
     },
     "metadata": {},
     "output_type": "display_data"
    },
    {
     "data": {
      "text/html": [
       "<pre style=\"white-space:pre;overflow-x:auto;line-height:normal;font-family:Menlo,'DejaVu Sans Mono',consolas,'Courier New',monospace\"><span style=\"font-weight: bold\"> Non-trainable params: </span><span style=\"color: #00af00; text-decoration-color: #00af00\">0</span> (0.00 B)\n",
       "</pre>\n"
      ],
      "text/plain": [
       "\u001b[1m Non-trainable params: \u001b[0m\u001b[38;5;34m0\u001b[0m (0.00 B)\n"
      ]
     },
     "metadata": {},
     "output_type": "display_data"
    }
   ],
   "source": [
    "model.summary()"
   ]
  },
  {
   "cell_type": "code",
   "execution_count": 19,
   "id": "abc6eb58-411c-49c0-9f2c-0153ccdfbd5a",
   "metadata": {},
   "outputs": [
    {
     "name": "stdout",
     "output_type": "stream",
     "text": [
      "layer 1 params: 2368\n",
      "layer 2 params: 650\n",
      "Total params: 3018\n"
     ]
    }
   ],
   "source": [
    "# Explain model parameters\n",
    "# layer 1: current layer neurons * last layer neurons + current layer bias\n",
    "l1_params = 64 * 36 + 64\n",
    "print('layer 1 params:', l1_params)\n",
    "\n",
    "# layer 2: current layer neurons * last layer neurons + current layer bias\n",
    "l2_params = 10 * 64 + 10\n",
    "print('layer 2 params:', l2_params )\n",
    "\n",
    "print('Total params:', l1_params + l2_params )\n"
   ]
  },
  {
   "cell_type": "code",
   "execution_count": 20,
   "id": "505afabd-0000-4340-aa2b-f0e666a51c4b",
   "metadata": {},
   "outputs": [],
   "source": [
    "# Compile Model\n",
    "model.compile( optimizer='rmsprop',\n",
    "              loss='categorical_crossentropy',\n",
    "              metrics=['accuracy'])"
   ]
  },
  {
   "cell_type": "markdown",
   "id": "e0c57986-ab3f-4497-8752-74be1d8aa1a3",
   "metadata": {},
   "source": [
    "**Iterration:**\n",
    "<br/>\n",
    "\n",
    "**Epochs:**\n",
    "<br/>\n",
    "\n",
    "**NOTE: Itterations count are more important than epoch count**"
   ]
  },
  {
   "cell_type": "code",
   "execution_count": 21,
   "id": "d19f4f35-0785-4ab8-ad53-4f19d198f4d2",
   "metadata": {},
   "outputs": [
    {
     "name": "stdout",
     "output_type": "stream",
     "text": [
      "Epoch 1/100\n",
      "\u001b[1m750/750\u001b[0m \u001b[32m━━━━━━━━━━━━━━━━━━━━\u001b[0m\u001b[37m\u001b[0m \u001b[1m2s\u001b[0m 2ms/step - accuracy: 0.6969 - loss: 1.1361 - val_accuracy: 0.8897 - val_loss: 0.3861\n",
      "Epoch 2/100\n",
      "\u001b[1m750/750\u001b[0m \u001b[32m━━━━━━━━━━━━━━━━━━━━\u001b[0m\u001b[37m\u001b[0m \u001b[1m1s\u001b[0m 1ms/step - accuracy: 0.8826 - loss: 0.3993 - val_accuracy: 0.9095 - val_loss: 0.3170\n",
      "Epoch 3/100\n",
      "\u001b[1m750/750\u001b[0m \u001b[32m━━━━━━━━━━━━━━━━━━━━\u001b[0m\u001b[37m\u001b[0m \u001b[1m1s\u001b[0m 1ms/step - accuracy: 0.9013 - loss: 0.3320 - val_accuracy: 0.9193 - val_loss: 0.2808\n",
      "Epoch 4/100\n",
      "\u001b[1m750/750\u001b[0m \u001b[32m━━━━━━━━━━━━━━━━━━━━\u001b[0m\u001b[37m\u001b[0m \u001b[1m1s\u001b[0m 1ms/step - accuracy: 0.9156 - loss: 0.2899 - val_accuracy: 0.9274 - val_loss: 0.2516\n",
      "Epoch 5/100\n",
      "\u001b[1m750/750\u001b[0m \u001b[32m━━━━━━━━━━━━━━━━━━━━\u001b[0m\u001b[37m\u001b[0m \u001b[1m1s\u001b[0m 1ms/step - accuracy: 0.9237 - loss: 0.2581 - val_accuracy: 0.9333 - val_loss: 0.2296\n",
      "Epoch 6/100\n",
      "\u001b[1m750/750\u001b[0m \u001b[32m━━━━━━━━━━━━━━━━━━━━\u001b[0m\u001b[37m\u001b[0m \u001b[1m1s\u001b[0m 2ms/step - accuracy: 0.9295 - loss: 0.2376 - val_accuracy: 0.9358 - val_loss: 0.2149\n",
      "Epoch 7/100\n",
      "\u001b[1m750/750\u001b[0m \u001b[32m━━━━━━━━━━━━━━━━━━━━\u001b[0m\u001b[37m\u001b[0m \u001b[1m1s\u001b[0m 1ms/step - accuracy: 0.9342 - loss: 0.2163 - val_accuracy: 0.9402 - val_loss: 0.2013\n",
      "Epoch 8/100\n",
      "\u001b[1m750/750\u001b[0m \u001b[32m━━━━━━━━━━━━━━━━━━━━\u001b[0m\u001b[37m\u001b[0m \u001b[1m1s\u001b[0m 1ms/step - accuracy: 0.9391 - loss: 0.2032 - val_accuracy: 0.9434 - val_loss: 0.1902\n",
      "Epoch 9/100\n",
      "\u001b[1m750/750\u001b[0m \u001b[32m━━━━━━━━━━━━━━━━━━━━\u001b[0m\u001b[37m\u001b[0m \u001b[1m1s\u001b[0m 1ms/step - accuracy: 0.9434 - loss: 0.1902 - val_accuracy: 0.9457 - val_loss: 0.1864\n",
      "Epoch 10/100\n",
      "\u001b[1m750/750\u001b[0m \u001b[32m━━━━━━━━━━━━━━━━━━━━\u001b[0m\u001b[37m\u001b[0m \u001b[1m1s\u001b[0m 1ms/step - accuracy: 0.9481 - loss: 0.1789 - val_accuracy: 0.9491 - val_loss: 0.1744\n",
      "Epoch 11/100\n",
      "\u001b[1m750/750\u001b[0m \u001b[32m━━━━━━━━━━━━━━━━━━━━\u001b[0m\u001b[37m\u001b[0m \u001b[1m1s\u001b[0m 1ms/step - accuracy: 0.9504 - loss: 0.1667 - val_accuracy: 0.9507 - val_loss: 0.1691\n",
      "Epoch 12/100\n",
      "\u001b[1m750/750\u001b[0m \u001b[32m━━━━━━━━━━━━━━━━━━━━\u001b[0m\u001b[37m\u001b[0m \u001b[1m1s\u001b[0m 1ms/step - accuracy: 0.9516 - loss: 0.1649 - val_accuracy: 0.9517 - val_loss: 0.1644\n",
      "Epoch 13/100\n",
      "\u001b[1m750/750\u001b[0m \u001b[32m━━━━━━━━━━━━━━━━━━━━\u001b[0m\u001b[37m\u001b[0m \u001b[1m1s\u001b[0m 1ms/step - accuracy: 0.9556 - loss: 0.1512 - val_accuracy: 0.9536 - val_loss: 0.1588\n",
      "Epoch 14/100\n",
      "\u001b[1m750/750\u001b[0m \u001b[32m━━━━━━━━━━━━━━━━━━━━\u001b[0m\u001b[37m\u001b[0m \u001b[1m1s\u001b[0m 1ms/step - accuracy: 0.9539 - loss: 0.1557 - val_accuracy: 0.9543 - val_loss: 0.1578\n",
      "Epoch 15/100\n",
      "\u001b[1m750/750\u001b[0m \u001b[32m━━━━━━━━━━━━━━━━━━━━\u001b[0m\u001b[37m\u001b[0m \u001b[1m1s\u001b[0m 1ms/step - accuracy: 0.9563 - loss: 0.1463 - val_accuracy: 0.9552 - val_loss: 0.1550\n",
      "Epoch 16/100\n",
      "\u001b[1m750/750\u001b[0m \u001b[32m━━━━━━━━━━━━━━━━━━━━\u001b[0m\u001b[37m\u001b[0m \u001b[1m1s\u001b[0m 1ms/step - accuracy: 0.9598 - loss: 0.1375 - val_accuracy: 0.9564 - val_loss: 0.1506\n",
      "Epoch 17/100\n",
      "\u001b[1m750/750\u001b[0m \u001b[32m━━━━━━━━━━━━━━━━━━━━\u001b[0m\u001b[37m\u001b[0m \u001b[1m1s\u001b[0m 1ms/step - accuracy: 0.9602 - loss: 0.1353 - val_accuracy: 0.9553 - val_loss: 0.1504\n",
      "Epoch 18/100\n",
      "\u001b[1m750/750\u001b[0m \u001b[32m━━━━━━━━━━━━━━━━━━━━\u001b[0m\u001b[37m\u001b[0m \u001b[1m1s\u001b[0m 1ms/step - accuracy: 0.9605 - loss: 0.1329 - val_accuracy: 0.9550 - val_loss: 0.1496\n",
      "Epoch 19/100\n",
      "\u001b[1m750/750\u001b[0m \u001b[32m━━━━━━━━━━━━━━━━━━━━\u001b[0m\u001b[37m\u001b[0m \u001b[1m1s\u001b[0m 1ms/step - accuracy: 0.9624 - loss: 0.1283 - val_accuracy: 0.9567 - val_loss: 0.1476\n",
      "Epoch 20/100\n",
      "\u001b[1m750/750\u001b[0m \u001b[32m━━━━━━━━━━━━━━━━━━━━\u001b[0m\u001b[37m\u001b[0m \u001b[1m1s\u001b[0m 1ms/step - accuracy: 0.9635 - loss: 0.1274 - val_accuracy: 0.9581 - val_loss: 0.1455\n",
      "Epoch 21/100\n",
      "\u001b[1m750/750\u001b[0m \u001b[32m━━━━━━━━━━━━━━━━━━━━\u001b[0m\u001b[37m\u001b[0m \u001b[1m1s\u001b[0m 1ms/step - accuracy: 0.9645 - loss: 0.1236 - val_accuracy: 0.9592 - val_loss: 0.1423\n",
      "Epoch 22/100\n",
      "\u001b[1m750/750\u001b[0m \u001b[32m━━━━━━━━━━━━━━━━━━━━\u001b[0m\u001b[37m\u001b[0m \u001b[1m1s\u001b[0m 1ms/step - accuracy: 0.9656 - loss: 0.1199 - val_accuracy: 0.9594 - val_loss: 0.1435\n",
      "Epoch 23/100\n",
      "\u001b[1m750/750\u001b[0m \u001b[32m━━━━━━━━━━━━━━━━━━━━\u001b[0m\u001b[37m\u001b[0m \u001b[1m1s\u001b[0m 1ms/step - accuracy: 0.9652 - loss: 0.1166 - val_accuracy: 0.9587 - val_loss: 0.1414\n",
      "Epoch 24/100\n",
      "\u001b[1m750/750\u001b[0m \u001b[32m━━━━━━━━━━━━━━━━━━━━\u001b[0m\u001b[37m\u001b[0m \u001b[1m1s\u001b[0m 1ms/step - accuracy: 0.9654 - loss: 0.1130 - val_accuracy: 0.9588 - val_loss: 0.1424\n",
      "Epoch 25/100\n",
      "\u001b[1m750/750\u001b[0m \u001b[32m━━━━━━━━━━━━━━━━━━━━\u001b[0m\u001b[37m\u001b[0m \u001b[1m1s\u001b[0m 1ms/step - accuracy: 0.9660 - loss: 0.1143 - val_accuracy: 0.9582 - val_loss: 0.1399\n",
      "Epoch 26/100\n",
      "\u001b[1m750/750\u001b[0m \u001b[32m━━━━━━━━━━━━━━━━━━━━\u001b[0m\u001b[37m\u001b[0m \u001b[1m1s\u001b[0m 1ms/step - accuracy: 0.9673 - loss: 0.1088 - val_accuracy: 0.9578 - val_loss: 0.1399\n",
      "Epoch 27/100\n",
      "\u001b[1m750/750\u001b[0m \u001b[32m━━━━━━━━━━━━━━━━━━━━\u001b[0m\u001b[37m\u001b[0m \u001b[1m2s\u001b[0m 2ms/step - accuracy: 0.9673 - loss: 0.1080 - val_accuracy: 0.9590 - val_loss: 0.1377\n",
      "Epoch 28/100\n",
      "\u001b[1m750/750\u001b[0m \u001b[32m━━━━━━━━━━━━━━━━━━━━\u001b[0m\u001b[37m\u001b[0m \u001b[1m1s\u001b[0m 2ms/step - accuracy: 0.9691 - loss: 0.1056 - val_accuracy: 0.9597 - val_loss: 0.1393\n",
      "Epoch 29/100\n",
      "\u001b[1m750/750\u001b[0m \u001b[32m━━━━━━━━━━━━━━━━━━━━\u001b[0m\u001b[37m\u001b[0m \u001b[1m1s\u001b[0m 1ms/step - accuracy: 0.9697 - loss: 0.1056 - val_accuracy: 0.9595 - val_loss: 0.1386\n",
      "Epoch 30/100\n",
      "\u001b[1m750/750\u001b[0m \u001b[32m━━━━━━━━━━━━━━━━━━━━\u001b[0m\u001b[37m\u001b[0m \u001b[1m1s\u001b[0m 2ms/step - accuracy: 0.9708 - loss: 0.0999 - val_accuracy: 0.9607 - val_loss: 0.1366\n",
      "Epoch 31/100\n",
      "\u001b[1m750/750\u001b[0m \u001b[32m━━━━━━━━━━━━━━━━━━━━\u001b[0m\u001b[37m\u001b[0m \u001b[1m1s\u001b[0m 1ms/step - accuracy: 0.9706 - loss: 0.1001 - val_accuracy: 0.9603 - val_loss: 0.1381\n",
      "Epoch 32/100\n",
      "\u001b[1m750/750\u001b[0m \u001b[32m━━━━━━━━━━━━━━━━━━━━\u001b[0m\u001b[37m\u001b[0m \u001b[1m1s\u001b[0m 1ms/step - accuracy: 0.9699 - loss: 0.1012 - val_accuracy: 0.9603 - val_loss: 0.1375\n",
      "Epoch 33/100\n",
      "\u001b[1m750/750\u001b[0m \u001b[32m━━━━━━━━━━━━━━━━━━━━\u001b[0m\u001b[37m\u001b[0m \u001b[1m1s\u001b[0m 1ms/step - accuracy: 0.9722 - loss: 0.0943 - val_accuracy: 0.9596 - val_loss: 0.1370\n",
      "Epoch 34/100\n",
      "\u001b[1m750/750\u001b[0m \u001b[32m━━━━━━━━━━━━━━━━━━━━\u001b[0m\u001b[37m\u001b[0m \u001b[1m1s\u001b[0m 1ms/step - accuracy: 0.9716 - loss: 0.0964 - val_accuracy: 0.9604 - val_loss: 0.1387\n",
      "Epoch 35/100\n",
      "\u001b[1m750/750\u001b[0m \u001b[32m━━━━━━━━━━━━━━━━━━━━\u001b[0m\u001b[37m\u001b[0m \u001b[1m1s\u001b[0m 1ms/step - accuracy: 0.9719 - loss: 0.0954 - val_accuracy: 0.9608 - val_loss: 0.1377\n",
      "Epoch 36/100\n",
      "\u001b[1m750/750\u001b[0m \u001b[32m━━━━━━━━━━━━━━━━━━━━\u001b[0m\u001b[37m\u001b[0m \u001b[1m1s\u001b[0m 2ms/step - accuracy: 0.9722 - loss: 0.0933 - val_accuracy: 0.9605 - val_loss: 0.1358\n",
      "Epoch 37/100\n",
      "\u001b[1m750/750\u001b[0m \u001b[32m━━━━━━━━━━━━━━━━━━━━\u001b[0m\u001b[37m\u001b[0m \u001b[1m1s\u001b[0m 1ms/step - accuracy: 0.9718 - loss: 0.0917 - val_accuracy: 0.9613 - val_loss: 0.1367\n",
      "Epoch 38/100\n",
      "\u001b[1m750/750\u001b[0m \u001b[32m━━━━━━━━━━━━━━━━━━━━\u001b[0m\u001b[37m\u001b[0m \u001b[1m1s\u001b[0m 1ms/step - accuracy: 0.9727 - loss: 0.0914 - val_accuracy: 0.9618 - val_loss: 0.1385\n",
      "Epoch 39/100\n",
      "\u001b[1m750/750\u001b[0m \u001b[32m━━━━━━━━━━━━━━━━━━━━\u001b[0m\u001b[37m\u001b[0m \u001b[1m1s\u001b[0m 1ms/step - accuracy: 0.9730 - loss: 0.0913 - val_accuracy: 0.9608 - val_loss: 0.1390\n",
      "Epoch 40/100\n",
      "\u001b[1m750/750\u001b[0m \u001b[32m━━━━━━━━━━━━━━━━━━━━\u001b[0m\u001b[37m\u001b[0m \u001b[1m1s\u001b[0m 1ms/step - accuracy: 0.9736 - loss: 0.0885 - val_accuracy: 0.9612 - val_loss: 0.1401\n",
      "Epoch 41/100\n",
      "\u001b[1m750/750\u001b[0m \u001b[32m━━━━━━━━━━━━━━━━━━━━\u001b[0m\u001b[37m\u001b[0m \u001b[1m1s\u001b[0m 1ms/step - accuracy: 0.9739 - loss: 0.0864 - val_accuracy: 0.9619 - val_loss: 0.1377\n",
      "Epoch 42/100\n",
      "\u001b[1m750/750\u001b[0m \u001b[32m━━━━━━━━━━━━━━━━━━━━\u001b[0m\u001b[37m\u001b[0m \u001b[1m1s\u001b[0m 1ms/step - accuracy: 0.9739 - loss: 0.0894 - val_accuracy: 0.9621 - val_loss: 0.1388\n",
      "Epoch 43/100\n",
      "\u001b[1m750/750\u001b[0m \u001b[32m━━━━━━━━━━━━━━━━━━━━\u001b[0m\u001b[37m\u001b[0m \u001b[1m1s\u001b[0m 1ms/step - accuracy: 0.9744 - loss: 0.0848 - val_accuracy: 0.9618 - val_loss: 0.1381\n",
      "Epoch 44/100\n",
      "\u001b[1m750/750\u001b[0m \u001b[32m━━━━━━━━━━━━━━━━━━━━\u001b[0m\u001b[37m\u001b[0m \u001b[1m1s\u001b[0m 1ms/step - accuracy: 0.9747 - loss: 0.0836 - val_accuracy: 0.9631 - val_loss: 0.1373\n",
      "Epoch 45/100\n",
      "\u001b[1m750/750\u001b[0m \u001b[32m━━━━━━━━━━━━━━━━━━━━\u001b[0m\u001b[37m\u001b[0m \u001b[1m1s\u001b[0m 2ms/step - accuracy: 0.9747 - loss: 0.0842 - val_accuracy: 0.9615 - val_loss: 0.1402\n",
      "Epoch 46/100\n",
      "\u001b[1m750/750\u001b[0m \u001b[32m━━━━━━━━━━━━━━━━━━━━\u001b[0m\u001b[37m\u001b[0m \u001b[1m1s\u001b[0m 1ms/step - accuracy: 0.9756 - loss: 0.0808 - val_accuracy: 0.9612 - val_loss: 0.1438\n",
      "Epoch 47/100\n",
      "\u001b[1m750/750\u001b[0m \u001b[32m━━━━━━━━━━━━━━━━━━━━\u001b[0m\u001b[37m\u001b[0m \u001b[1m1s\u001b[0m 1ms/step - accuracy: 0.9761 - loss: 0.0811 - val_accuracy: 0.9628 - val_loss: 0.1394\n",
      "Epoch 48/100\n",
      "\u001b[1m750/750\u001b[0m \u001b[32m━━━━━━━━━━━━━━━━━━━━\u001b[0m\u001b[37m\u001b[0m \u001b[1m1s\u001b[0m 1ms/step - accuracy: 0.9763 - loss: 0.0802 - val_accuracy: 0.9623 - val_loss: 0.1402\n",
      "Epoch 49/100\n",
      "\u001b[1m750/750\u001b[0m \u001b[32m━━━━━━━━━━━━━━━━━━━━\u001b[0m\u001b[37m\u001b[0m \u001b[1m1s\u001b[0m 1ms/step - accuracy: 0.9758 - loss: 0.0787 - val_accuracy: 0.9627 - val_loss: 0.1397\n",
      "Epoch 50/100\n",
      "\u001b[1m750/750\u001b[0m \u001b[32m━━━━━━━━━━━━━━━━━━━━\u001b[0m\u001b[37m\u001b[0m \u001b[1m1s\u001b[0m 1ms/step - accuracy: 0.9754 - loss: 0.0832 - val_accuracy: 0.9643 - val_loss: 0.1403\n",
      "Epoch 51/100\n",
      "\u001b[1m750/750\u001b[0m \u001b[32m━━━━━━━━━━━━━━━━━━━━\u001b[0m\u001b[37m\u001b[0m \u001b[1m1s\u001b[0m 1ms/step - accuracy: 0.9762 - loss: 0.0810 - val_accuracy: 0.9629 - val_loss: 0.1404\n",
      "Epoch 52/100\n",
      "\u001b[1m750/750\u001b[0m \u001b[32m━━━━━━━━━━━━━━━━━━━━\u001b[0m\u001b[37m\u001b[0m \u001b[1m1s\u001b[0m 1ms/step - accuracy: 0.9775 - loss: 0.0730 - val_accuracy: 0.9630 - val_loss: 0.1405\n",
      "Epoch 53/100\n",
      "\u001b[1m750/750\u001b[0m \u001b[32m━━━━━━━━━━━━━━━━━━━━\u001b[0m\u001b[37m\u001b[0m \u001b[1m1s\u001b[0m 1ms/step - accuracy: 0.9779 - loss: 0.0768 - val_accuracy: 0.9640 - val_loss: 0.1391\n",
      "Epoch 54/100\n",
      "\u001b[1m750/750\u001b[0m \u001b[32m━━━━━━━━━━━━━━━━━━━━\u001b[0m\u001b[37m\u001b[0m \u001b[1m1s\u001b[0m 1ms/step - accuracy: 0.9776 - loss: 0.0746 - val_accuracy: 0.9612 - val_loss: 0.1467\n",
      "Epoch 55/100\n",
      "\u001b[1m750/750\u001b[0m \u001b[32m━━━━━━━━━━━━━━━━━━━━\u001b[0m\u001b[37m\u001b[0m \u001b[1m1s\u001b[0m 1ms/step - accuracy: 0.9767 - loss: 0.0754 - val_accuracy: 0.9632 - val_loss: 0.1404\n",
      "Epoch 56/100\n",
      "\u001b[1m750/750\u001b[0m \u001b[32m━━━━━━━━━━━━━━━━━━━━\u001b[0m\u001b[37m\u001b[0m \u001b[1m1s\u001b[0m 2ms/step - accuracy: 0.9776 - loss: 0.0766 - val_accuracy: 0.9636 - val_loss: 0.1424\n",
      "Epoch 57/100\n",
      "\u001b[1m750/750\u001b[0m \u001b[32m━━━━━━━━━━━━━━━━━━━━\u001b[0m\u001b[37m\u001b[0m \u001b[1m1s\u001b[0m 1ms/step - accuracy: 0.9767 - loss: 0.0771 - val_accuracy: 0.9647 - val_loss: 0.1397\n",
      "Epoch 58/100\n",
      "\u001b[1m750/750\u001b[0m \u001b[32m━━━━━━━━━━━━━━━━━━━━\u001b[0m\u001b[37m\u001b[0m \u001b[1m1s\u001b[0m 1ms/step - accuracy: 0.9783 - loss: 0.0722 - val_accuracy: 0.9628 - val_loss: 0.1429\n",
      "Epoch 59/100\n",
      "\u001b[1m750/750\u001b[0m \u001b[32m━━━━━━━━━━━━━━━━━━━━\u001b[0m\u001b[37m\u001b[0m \u001b[1m1s\u001b[0m 1ms/step - accuracy: 0.9777 - loss: 0.0731 - val_accuracy: 0.9636 - val_loss: 0.1421\n",
      "Epoch 60/100\n",
      "\u001b[1m750/750\u001b[0m \u001b[32m━━━━━━━━━━━━━━━━━━━━\u001b[0m\u001b[37m\u001b[0m \u001b[1m1s\u001b[0m 1ms/step - accuracy: 0.9785 - loss: 0.0700 - val_accuracy: 0.9628 - val_loss: 0.1435\n",
      "Epoch 61/100\n",
      "\u001b[1m750/750\u001b[0m \u001b[32m━━━━━━━━━━━━━━━━━━━━\u001b[0m\u001b[37m\u001b[0m \u001b[1m1s\u001b[0m 1ms/step - accuracy: 0.9783 - loss: 0.0731 - val_accuracy: 0.9629 - val_loss: 0.1435\n",
      "Epoch 62/100\n",
      "\u001b[1m750/750\u001b[0m \u001b[32m━━━━━━━━━━━━━━━━━━━━\u001b[0m\u001b[37m\u001b[0m \u001b[1m1s\u001b[0m 1ms/step - accuracy: 0.9781 - loss: 0.0729 - val_accuracy: 0.9631 - val_loss: 0.1436\n",
      "Epoch 63/100\n",
      "\u001b[1m750/750\u001b[0m \u001b[32m━━━━━━━━━━━━━━━━━━━━\u001b[0m\u001b[37m\u001b[0m \u001b[1m1s\u001b[0m 1ms/step - accuracy: 0.9793 - loss: 0.0701 - val_accuracy: 0.9644 - val_loss: 0.1451\n",
      "Epoch 64/100\n",
      "\u001b[1m750/750\u001b[0m \u001b[32m━━━━━━━━━━━━━━━━━━━━\u001b[0m\u001b[37m\u001b[0m \u001b[1m1s\u001b[0m 1ms/step - accuracy: 0.9802 - loss: 0.0684 - val_accuracy: 0.9634 - val_loss: 0.1470\n",
      "Epoch 65/100\n",
      "\u001b[1m750/750\u001b[0m \u001b[32m━━━━━━━━━━━━━━━━━━━━\u001b[0m\u001b[37m\u001b[0m \u001b[1m1s\u001b[0m 1ms/step - accuracy: 0.9798 - loss: 0.0676 - val_accuracy: 0.9638 - val_loss: 0.1445\n",
      "Epoch 66/100\n",
      "\u001b[1m750/750\u001b[0m \u001b[32m━━━━━━━━━━━━━━━━━━━━\u001b[0m\u001b[37m\u001b[0m \u001b[1m1s\u001b[0m 1ms/step - accuracy: 0.9799 - loss: 0.0652 - val_accuracy: 0.9645 - val_loss: 0.1423\n",
      "Epoch 67/100\n",
      "\u001b[1m750/750\u001b[0m \u001b[32m━━━━━━━━━━━━━━━━━━━━\u001b[0m\u001b[37m\u001b[0m \u001b[1m1s\u001b[0m 1ms/step - accuracy: 0.9806 - loss: 0.0687 - val_accuracy: 0.9639 - val_loss: 0.1455\n",
      "Epoch 68/100\n",
      "\u001b[1m750/750\u001b[0m \u001b[32m━━━━━━━━━━━━━━━━━━━━\u001b[0m\u001b[37m\u001b[0m \u001b[1m1s\u001b[0m 1ms/step - accuracy: 0.9804 - loss: 0.0688 - val_accuracy: 0.9646 - val_loss: 0.1448\n",
      "Epoch 69/100\n",
      "\u001b[1m750/750\u001b[0m \u001b[32m━━━━━━━━━━━━━━━━━━━━\u001b[0m\u001b[37m\u001b[0m \u001b[1m1s\u001b[0m 1ms/step - accuracy: 0.9796 - loss: 0.0701 - val_accuracy: 0.9636 - val_loss: 0.1450\n",
      "Epoch 70/100\n",
      "\u001b[1m750/750\u001b[0m \u001b[32m━━━━━━━━━━━━━━━━━━━━\u001b[0m\u001b[37m\u001b[0m \u001b[1m1s\u001b[0m 1ms/step - accuracy: 0.9811 - loss: 0.0652 - val_accuracy: 0.9639 - val_loss: 0.1452\n",
      "Epoch 71/100\n",
      "\u001b[1m750/750\u001b[0m \u001b[32m━━━━━━━━━━━━━━━━━━━━\u001b[0m\u001b[37m\u001b[0m \u001b[1m1s\u001b[0m 1ms/step - accuracy: 0.9801 - loss: 0.0671 - val_accuracy: 0.9632 - val_loss: 0.1458\n",
      "Epoch 72/100\n",
      "\u001b[1m750/750\u001b[0m \u001b[32m━━━━━━━━━━━━━━━━━━━━\u001b[0m\u001b[37m\u001b[0m \u001b[1m1s\u001b[0m 1ms/step - accuracy: 0.9799 - loss: 0.0665 - val_accuracy: 0.9632 - val_loss: 0.1468\n",
      "Epoch 73/100\n",
      "\u001b[1m750/750\u001b[0m \u001b[32m━━━━━━━━━━━━━━━━━━━━\u001b[0m\u001b[37m\u001b[0m \u001b[1m1s\u001b[0m 1ms/step - accuracy: 0.9804 - loss: 0.0663 - val_accuracy: 0.9639 - val_loss: 0.1460\n",
      "Epoch 74/100\n",
      "\u001b[1m750/750\u001b[0m \u001b[32m━━━━━━━━━━━━━━━━━━━━\u001b[0m\u001b[37m\u001b[0m \u001b[1m1s\u001b[0m 1ms/step - accuracy: 0.9819 - loss: 0.0625 - val_accuracy: 0.9634 - val_loss: 0.1499\n",
      "Epoch 75/100\n",
      "\u001b[1m750/750\u001b[0m \u001b[32m━━━━━━━━━━━━━━━━━━━━\u001b[0m\u001b[37m\u001b[0m \u001b[1m1s\u001b[0m 1ms/step - accuracy: 0.9803 - loss: 0.0665 - val_accuracy: 0.9646 - val_loss: 0.1483\n",
      "Epoch 76/100\n",
      "\u001b[1m750/750\u001b[0m \u001b[32m━━━━━━━━━━━━━━━━━━━━\u001b[0m\u001b[37m\u001b[0m \u001b[1m1s\u001b[0m 1ms/step - accuracy: 0.9808 - loss: 0.0630 - val_accuracy: 0.9628 - val_loss: 0.1536\n",
      "Epoch 77/100\n",
      "\u001b[1m750/750\u001b[0m \u001b[32m━━━━━━━━━━━━━━━━━━━━\u001b[0m\u001b[37m\u001b[0m \u001b[1m1s\u001b[0m 1ms/step - accuracy: 0.9814 - loss: 0.0624 - val_accuracy: 0.9632 - val_loss: 0.1489\n",
      "Epoch 78/100\n",
      "\u001b[1m750/750\u001b[0m \u001b[32m━━━━━━━━━━━━━━━━━━━━\u001b[0m\u001b[37m\u001b[0m \u001b[1m1s\u001b[0m 1ms/step - accuracy: 0.9820 - loss: 0.0632 - val_accuracy: 0.9635 - val_loss: 0.1506\n",
      "Epoch 79/100\n",
      "\u001b[1m750/750\u001b[0m \u001b[32m━━━━━━━━━━━━━━━━━━━━\u001b[0m\u001b[37m\u001b[0m \u001b[1m1s\u001b[0m 1ms/step - accuracy: 0.9820 - loss: 0.0655 - val_accuracy: 0.9633 - val_loss: 0.1514\n",
      "Epoch 80/100\n",
      "\u001b[1m750/750\u001b[0m \u001b[32m━━━━━━━━━━━━━━━━━━━━\u001b[0m\u001b[37m\u001b[0m \u001b[1m1s\u001b[0m 1ms/step - accuracy: 0.9815 - loss: 0.0643 - val_accuracy: 0.9632 - val_loss: 0.1516\n",
      "Epoch 81/100\n",
      "\u001b[1m750/750\u001b[0m \u001b[32m━━━━━━━━━━━━━━━━━━━━\u001b[0m\u001b[37m\u001b[0m \u001b[1m1s\u001b[0m 1ms/step - accuracy: 0.9833 - loss: 0.0601 - val_accuracy: 0.9637 - val_loss: 0.1527\n",
      "Epoch 82/100\n",
      "\u001b[1m750/750\u001b[0m \u001b[32m━━━━━━━━━━━━━━━━━━━━\u001b[0m\u001b[37m\u001b[0m \u001b[1m1s\u001b[0m 1ms/step - accuracy: 0.9837 - loss: 0.0562 - val_accuracy: 0.9622 - val_loss: 0.1561\n",
      "Epoch 83/100\n",
      "\u001b[1m750/750\u001b[0m \u001b[32m━━━━━━━━━━━━━━━━━━━━\u001b[0m\u001b[37m\u001b[0m \u001b[1m1s\u001b[0m 1ms/step - accuracy: 0.9828 - loss: 0.0610 - val_accuracy: 0.9637 - val_loss: 0.1538\n",
      "Epoch 84/100\n",
      "\u001b[1m750/750\u001b[0m \u001b[32m━━━━━━━━━━━━━━━━━━━━\u001b[0m\u001b[37m\u001b[0m \u001b[1m1s\u001b[0m 1ms/step - accuracy: 0.9830 - loss: 0.0620 - val_accuracy: 0.9622 - val_loss: 0.1557\n",
      "Epoch 85/100\n",
      "\u001b[1m750/750\u001b[0m \u001b[32m━━━━━━━━━━━━━━━━━━━━\u001b[0m\u001b[37m\u001b[0m \u001b[1m1s\u001b[0m 1ms/step - accuracy: 0.9830 - loss: 0.0591 - val_accuracy: 0.9634 - val_loss: 0.1528\n",
      "Epoch 86/100\n",
      "\u001b[1m750/750\u001b[0m \u001b[32m━━━━━━━━━━━━━━━━━━━━\u001b[0m\u001b[37m\u001b[0m \u001b[1m1s\u001b[0m 2ms/step - accuracy: 0.9830 - loss: 0.0608 - val_accuracy: 0.9639 - val_loss: 0.1541\n",
      "Epoch 87/100\n",
      "\u001b[1m750/750\u001b[0m \u001b[32m━━━━━━━━━━━━━━━━━━━━\u001b[0m\u001b[37m\u001b[0m \u001b[1m1s\u001b[0m 2ms/step - accuracy: 0.9828 - loss: 0.0608 - val_accuracy: 0.9625 - val_loss: 0.1599\n",
      "Epoch 88/100\n",
      "\u001b[1m750/750\u001b[0m \u001b[32m━━━━━━━━━━━━━━━━━━━━\u001b[0m\u001b[37m\u001b[0m \u001b[1m1s\u001b[0m 2ms/step - accuracy: 0.9832 - loss: 0.0622 - val_accuracy: 0.9623 - val_loss: 0.1569\n",
      "Epoch 89/100\n",
      "\u001b[1m750/750\u001b[0m \u001b[32m━━━━━━━━━━━━━━━━━━━━\u001b[0m\u001b[37m\u001b[0m \u001b[1m1s\u001b[0m 2ms/step - accuracy: 0.9825 - loss: 0.0610 - val_accuracy: 0.9617 - val_loss: 0.1601\n",
      "Epoch 90/100\n",
      "\u001b[1m750/750\u001b[0m \u001b[32m━━━━━━━━━━━━━━━━━━━━\u001b[0m\u001b[37m\u001b[0m \u001b[1m1s\u001b[0m 1ms/step - accuracy: 0.9832 - loss: 0.0590 - val_accuracy: 0.9618 - val_loss: 0.1597\n",
      "Epoch 91/100\n",
      "\u001b[1m750/750\u001b[0m \u001b[32m━━━━━━━━━━━━━━━━━━━━\u001b[0m\u001b[37m\u001b[0m \u001b[1m1s\u001b[0m 1ms/step - accuracy: 0.9839 - loss: 0.0589 - val_accuracy: 0.9635 - val_loss: 0.1563\n",
      "Epoch 92/100\n",
      "\u001b[1m750/750\u001b[0m \u001b[32m━━━━━━━━━━━━━━━━━━━━\u001b[0m\u001b[37m\u001b[0m \u001b[1m1s\u001b[0m 1ms/step - accuracy: 0.9829 - loss: 0.0591 - val_accuracy: 0.9635 - val_loss: 0.1590\n",
      "Epoch 93/100\n",
      "\u001b[1m750/750\u001b[0m \u001b[32m━━━━━━━━━━━━━━━━━━━━\u001b[0m\u001b[37m\u001b[0m \u001b[1m1s\u001b[0m 1ms/step - accuracy: 0.9826 - loss: 0.0589 - val_accuracy: 0.9625 - val_loss: 0.1571\n",
      "Epoch 94/100\n",
      "\u001b[1m750/750\u001b[0m \u001b[32m━━━━━━━━━━━━━━━━━━━━\u001b[0m\u001b[37m\u001b[0m \u001b[1m1s\u001b[0m 1ms/step - accuracy: 0.9830 - loss: 0.0594 - val_accuracy: 0.9625 - val_loss: 0.1606\n",
      "Epoch 95/100\n",
      "\u001b[1m750/750\u001b[0m \u001b[32m━━━━━━━━━━━━━━━━━━━━\u001b[0m\u001b[37m\u001b[0m \u001b[1m1s\u001b[0m 1ms/step - accuracy: 0.9839 - loss: 0.0559 - val_accuracy: 0.9617 - val_loss: 0.1636\n",
      "Epoch 96/100\n",
      "\u001b[1m750/750\u001b[0m \u001b[32m━━━━━━━━━━━━━━━━━━━━\u001b[0m\u001b[37m\u001b[0m \u001b[1m1s\u001b[0m 1ms/step - accuracy: 0.9835 - loss: 0.0577 - val_accuracy: 0.9630 - val_loss: 0.1580\n",
      "Epoch 97/100\n",
      "\u001b[1m750/750\u001b[0m \u001b[32m━━━━━━━━━━━━━━━━━━━━\u001b[0m\u001b[37m\u001b[0m \u001b[1m1s\u001b[0m 1ms/step - accuracy: 0.9844 - loss: 0.0553 - val_accuracy: 0.9626 - val_loss: 0.1621\n",
      "Epoch 98/100\n",
      "\u001b[1m750/750\u001b[0m \u001b[32m━━━━━━━━━━━━━━━━━━━━\u001b[0m\u001b[37m\u001b[0m \u001b[1m1s\u001b[0m 1ms/step - accuracy: 0.9840 - loss: 0.0583 - val_accuracy: 0.9626 - val_loss: 0.1622\n",
      "Epoch 99/100\n",
      "\u001b[1m750/750\u001b[0m \u001b[32m━━━━━━━━━━━━━━━━━━━━\u001b[0m\u001b[37m\u001b[0m \u001b[1m1s\u001b[0m 1ms/step - accuracy: 0.9849 - loss: 0.0545 - val_accuracy: 0.9620 - val_loss: 0.1647\n",
      "Epoch 100/100\n",
      "\u001b[1m750/750\u001b[0m \u001b[32m━━━━━━━━━━━━━━━━━━━━\u001b[0m\u001b[37m\u001b[0m \u001b[1m1s\u001b[0m 1ms/step - accuracy: 0.9832 - loss: 0.0564 - val_accuracy: 0.9617 - val_loss: 0.1655\n",
      "CPU times: total: 27.3 s\n",
      "Wall time: 1min 51s\n"
     ]
    }
   ],
   "source": [
    "%%time\n",
    "\n",
    "# Fit (learn) model\n",
    "history= model.fit(x=x_train,\n",
    "                   y=y_train,\n",
    "                   batch_size=32,\n",
    "                   epochs=100,\n",
    "                   validation_split=0.2\n",
    "                  )"
   ]
  },
  {
   "cell_type": "code",
   "execution_count": 45,
   "id": "23fd48d7-5076-458f-bea5-a74c0024931b",
   "metadata": {},
   "outputs": [
    {
     "data": {
      "text/plain": [
       "750.0"
      ]
     },
     "execution_count": 45,
     "metadata": {},
     "output_type": "execute_result"
    }
   ],
   "source": [
    "x_train.shape[0] * 0.8 / 64"
   ]
  },
  {
   "cell_type": "code",
   "execution_count": 46,
   "id": "81d1e53c-d465-464a-9d2d-9329444f54e6",
   "metadata": {},
   "outputs": [
    {
     "data": {
      "text/plain": [
       "\u001b[1;31mSignature:\u001b[0m\n",
       "\u001b[0mmodel\u001b[0m\u001b[1;33m.\u001b[0m\u001b[0mfit\u001b[0m\u001b[1;33m(\u001b[0m\u001b[1;33m\n",
       "\u001b[0m    \u001b[0mx\u001b[0m\u001b[1;33m=\u001b[0m\u001b[1;32mNone\u001b[0m\u001b[1;33m,\u001b[0m\u001b[1;33m\n",
       "\u001b[0m    \u001b[0my\u001b[0m\u001b[1;33m=\u001b[0m\u001b[1;32mNone\u001b[0m\u001b[1;33m,\u001b[0m\u001b[1;33m\n",
       "\u001b[0m    \u001b[0mbatch_size\u001b[0m\u001b[1;33m=\u001b[0m\u001b[1;32mNone\u001b[0m\u001b[1;33m,\u001b[0m\u001b[1;33m\n",
       "\u001b[0m    \u001b[0mepochs\u001b[0m\u001b[1;33m=\u001b[0m\u001b[1;36m1\u001b[0m\u001b[1;33m,\u001b[0m\u001b[1;33m\n",
       "\u001b[0m    \u001b[0mverbose\u001b[0m\u001b[1;33m=\u001b[0m\u001b[1;34m'auto'\u001b[0m\u001b[1;33m,\u001b[0m\u001b[1;33m\n",
       "\u001b[0m    \u001b[0mcallbacks\u001b[0m\u001b[1;33m=\u001b[0m\u001b[1;32mNone\u001b[0m\u001b[1;33m,\u001b[0m\u001b[1;33m\n",
       "\u001b[0m    \u001b[0mvalidation_split\u001b[0m\u001b[1;33m=\u001b[0m\u001b[1;36m0.0\u001b[0m\u001b[1;33m,\u001b[0m\u001b[1;33m\n",
       "\u001b[0m    \u001b[0mvalidation_data\u001b[0m\u001b[1;33m=\u001b[0m\u001b[1;32mNone\u001b[0m\u001b[1;33m,\u001b[0m\u001b[1;33m\n",
       "\u001b[0m    \u001b[0mshuffle\u001b[0m\u001b[1;33m=\u001b[0m\u001b[1;32mTrue\u001b[0m\u001b[1;33m,\u001b[0m\u001b[1;33m\n",
       "\u001b[0m    \u001b[0mclass_weight\u001b[0m\u001b[1;33m=\u001b[0m\u001b[1;32mNone\u001b[0m\u001b[1;33m,\u001b[0m\u001b[1;33m\n",
       "\u001b[0m    \u001b[0msample_weight\u001b[0m\u001b[1;33m=\u001b[0m\u001b[1;32mNone\u001b[0m\u001b[1;33m,\u001b[0m\u001b[1;33m\n",
       "\u001b[0m    \u001b[0minitial_epoch\u001b[0m\u001b[1;33m=\u001b[0m\u001b[1;36m0\u001b[0m\u001b[1;33m,\u001b[0m\u001b[1;33m\n",
       "\u001b[0m    \u001b[0msteps_per_epoch\u001b[0m\u001b[1;33m=\u001b[0m\u001b[1;32mNone\u001b[0m\u001b[1;33m,\u001b[0m\u001b[1;33m\n",
       "\u001b[0m    \u001b[0mvalidation_steps\u001b[0m\u001b[1;33m=\u001b[0m\u001b[1;32mNone\u001b[0m\u001b[1;33m,\u001b[0m\u001b[1;33m\n",
       "\u001b[0m    \u001b[0mvalidation_batch_size\u001b[0m\u001b[1;33m=\u001b[0m\u001b[1;32mNone\u001b[0m\u001b[1;33m,\u001b[0m\u001b[1;33m\n",
       "\u001b[0m    \u001b[0mvalidation_freq\u001b[0m\u001b[1;33m=\u001b[0m\u001b[1;36m1\u001b[0m\u001b[1;33m,\u001b[0m\u001b[1;33m\n",
       "\u001b[0m\u001b[1;33m)\u001b[0m\u001b[1;33m\u001b[0m\u001b[1;33m\u001b[0m\u001b[0m\n",
       "\u001b[1;31mDocstring:\u001b[0m\n",
       "Trains the model for a fixed number of epochs (dataset iterations).\n",
       "\n",
       "Args:\n",
       "    x: Input data. It could be:\n",
       "        - A NumPy array (or array-like), or a list of arrays\n",
       "        (in case the model has multiple inputs).\n",
       "        - A tensor, or a list of tensors\n",
       "        (in case the model has multiple inputs).\n",
       "        - A dict mapping input names to the corresponding array/tensors,\n",
       "        if the model has named inputs.\n",
       "        - A `tf.data.Dataset`. Should return a tuple\n",
       "        of either `(inputs, targets)` or\n",
       "        `(inputs, targets, sample_weights)`.\n",
       "        - A `keras.utils.PyDataset` returning `(inputs,\n",
       "        targets)` or `(inputs, targets, sample_weights)`.\n",
       "    y: Target data. Like the input data `x`,\n",
       "        it could be either NumPy array(s) or backend-native tensor(s).\n",
       "        If `x` is a dataset, generator,\n",
       "        or `keras.utils.PyDataset` instance, `y` should\n",
       "        not be specified (since targets will be obtained from `x`).\n",
       "    batch_size: Integer or `None`.\n",
       "        Number of samples per gradient update.\n",
       "        If unspecified, `batch_size` will default to 32.\n",
       "        Do not specify the `batch_size` if your data is in the\n",
       "        form of datasets, generators, or `keras.utils.PyDataset`\n",
       "        instances (since they generate batches).\n",
       "    epochs: Integer. Number of epochs to train the model.\n",
       "        An epoch is an iteration over the entire `x` and `y`\n",
       "        data provided\n",
       "        (unless the `steps_per_epoch` flag is set to\n",
       "        something other than None).\n",
       "        Note that in conjunction with `initial_epoch`,\n",
       "        `epochs` is to be understood as \"final epoch\".\n",
       "        The model is not trained for a number of iterations\n",
       "        given by `epochs`, but merely until the epoch\n",
       "        of index `epochs` is reached.\n",
       "    verbose: `\"auto\"`, 0, 1, or 2. Verbosity mode.\n",
       "        0 = silent, 1 = progress bar, 2 = one line per epoch.\n",
       "        \"auto\" becomes 1 for most cases.\n",
       "        Note that the progress bar is not\n",
       "        particularly useful when logged to a file,\n",
       "        so `verbose=2` is recommended when not running interactively\n",
       "        (e.g., in a production environment). Defaults to `\"auto\"`.\n",
       "    callbacks: List of `keras.callbacks.Callback` instances.\n",
       "        List of callbacks to apply during training.\n",
       "        See `keras.callbacks`. Note\n",
       "        `keras.callbacks.ProgbarLogger` and\n",
       "        `keras.callbacks.History` callbacks are created\n",
       "        automatically and need not be passed to `model.fit()`.\n",
       "        `keras.callbacks.ProgbarLogger` is created\n",
       "        or not based on the `verbose` argument in `model.fit()`.\n",
       "    validation_split: Float between 0 and 1.\n",
       "        Fraction of the training data to be used as validation data.\n",
       "        The model will set apart this fraction of the training data,\n",
       "        will not train on it, and will evaluate\n",
       "        the loss and any model metrics\n",
       "        on this data at the end of each epoch.\n",
       "        The validation data is selected from the last samples\n",
       "        in the `x` and `y` data provided, before shuffling. This\n",
       "        argument is not supported when `x` is a dataset, generator or\n",
       "        `keras.utils.PyDataset` instance.\n",
       "        If both `validation_data` and `validation_split` are provided,\n",
       "        `validation_data` will override `validation_split`.\n",
       "    validation_data: Data on which to evaluate\n",
       "        the loss and any model metrics at the end of each epoch.\n",
       "        The model will not be trained on this data. Thus, note the fact\n",
       "        that the validation loss of data provided using\n",
       "        `validation_split` or `validation_data` is not affected by\n",
       "        regularization layers like noise and dropout.\n",
       "        `validation_data` will override `validation_split`.\n",
       "        It could be:\n",
       "        - A tuple `(x_val, y_val)` of NumPy arrays or tensors.\n",
       "        - A tuple `(x_val, y_val, val_sample_weights)` of NumPy\n",
       "        arrays.\n",
       "        - A `tf.data.Dataset`.\n",
       "        - A Python generator or `keras.utils.PyDataset` returning\n",
       "        `(inputs, targets)` or `(inputs, targets, sample_weights)`.\n",
       "    shuffle: Boolean, whether to shuffle the training data\n",
       "        before each epoch. This argument is\n",
       "        ignored when `x` is a generator or a `tf.data.Dataset`.\n",
       "    class_weight: Optional dictionary mapping class indices (integers)\n",
       "        to a weight (float) value, used for weighting the loss function\n",
       "        (during training only).\n",
       "        This can be useful to tell the model to\n",
       "        \"pay more attention\" to samples from\n",
       "        an under-represented class. When `class_weight` is specified\n",
       "        and targets have a rank of 2 or greater, either `y` must be\n",
       "        one-hot encoded, or an explicit final dimension of `1` must\n",
       "        be included for sparse class labels.\n",
       "    sample_weight: Optional NumPy array of weights for\n",
       "        the training samples, used for weighting the loss function\n",
       "        (during training only). You can either pass a flat (1D)\n",
       "        NumPy array with the same length as the input samples\n",
       "        (1:1 mapping between weights and samples),\n",
       "        or in the case of temporal data,\n",
       "        you can pass a 2D array with shape\n",
       "        `(samples, sequence_length)`,\n",
       "        to apply a different weight to every timestep of every sample.\n",
       "        This argument is not supported when `x` is a dataset, generator,\n",
       "        or `keras.utils.PyDataset` instance, instead provide the\n",
       "        sample_weights as the third element of `x`.\n",
       "        Note that sample weighting does not apply to metrics specified\n",
       "        via the `metrics` argument in `compile()`. To apply sample\n",
       "        weighting to your metrics, you can specify them via the\n",
       "        `weighted_metrics` in `compile()` instead.\n",
       "    initial_epoch: Integer.\n",
       "        Epoch at which to start training\n",
       "        (useful for resuming a previous training run).\n",
       "    steps_per_epoch: Integer or `None`.\n",
       "        Total number of steps (batches of samples)\n",
       "        before declaring one epoch finished and starting the\n",
       "        next epoch. When training with input tensors such as\n",
       "        backend-native tensors, the default `None` is equal to\n",
       "        the number of samples in your dataset divided by\n",
       "        the batch size, or 1 if that cannot be determined. If `x` is a\n",
       "        `tf.data.Dataset`, and `steps_per_epoch`\n",
       "        is `None`, the epoch will run until the input dataset is\n",
       "        exhausted.  When passing an infinitely repeating dataset, you\n",
       "        must specify the `steps_per_epoch` argument. If\n",
       "        `steps_per_epoch=-1` the training will run indefinitely with an\n",
       "        infinitely repeating dataset.\n",
       "    validation_steps: Only relevant if `validation_data` is provided.\n",
       "        Total number of steps (batches of\n",
       "        samples) to draw before stopping when performing validation\n",
       "        at the end of every epoch. If `validation_steps` is `None`,\n",
       "        validation will run until the `validation_data` dataset is\n",
       "        exhausted. In the case of an infinitely repeated dataset, it\n",
       "        will run into an infinite loop. If `validation_steps` is\n",
       "        specified and only part of the dataset will be consumed, the\n",
       "        evaluation will start from the beginning of the dataset at each\n",
       "        epoch. This ensures that the same validation samples are used\n",
       "        every time.\n",
       "    validation_batch_size: Integer or `None`.\n",
       "        Number of samples per validation batch.\n",
       "        If unspecified, will default to `batch_size`.\n",
       "        Do not specify the `validation_batch_size` if your data is in\n",
       "        the form of datasets or `keras.utils.PyDataset`\n",
       "        instances (since they generate batches).\n",
       "    validation_freq: Only relevant if validation data is provided.\n",
       "        Specifies how many training epochs to run\n",
       "        before a new validation run is performed,\n",
       "        e.g. `validation_freq=2` runs validation every 2 epochs.\n",
       "\n",
       "Unpacking behavior for iterator-like inputs:\n",
       "    A common pattern is to pass an iterator like object such as a\n",
       "    `tf.data.Dataset` or a `keras.utils.PyDataset` to `fit()`,\n",
       "    which will in fact yield not only features (`x`)\n",
       "    but optionally targets (`y`) and sample weights (`sample_weight`).\n",
       "    Keras requires that the output of such iterator-likes be\n",
       "    unambiguous. The iterator should return a tuple\n",
       "    of length 1, 2, or 3, where the optional second and third elements\n",
       "    will be used for `y` and `sample_weight` respectively.\n",
       "    Any other type provided will be wrapped in\n",
       "    a length-one tuple, effectively treating everything as `x`. When\n",
       "    yielding dicts, they should still adhere to the top-level tuple\n",
       "    structure,\n",
       "    e.g. `({\"x0\": x0, \"x1\": x1}, y)`. Keras will not attempt to separate\n",
       "    features, targets, and weights from the keys of a single dict.\n",
       "    A notable unsupported data type is the `namedtuple`. The reason is\n",
       "    that it behaves like both an ordered datatype (tuple) and a mapping\n",
       "    datatype (dict). So given a namedtuple of the form:\n",
       "    `namedtuple(\"example_tuple\", [\"y\", \"x\"])`\n",
       "    it is ambiguous whether to reverse the order of the elements when\n",
       "    interpreting the value. Even worse is a tuple of the form:\n",
       "    `namedtuple(\"other_tuple\", [\"x\", \"y\", \"z\"])`\n",
       "    where it is unclear if the tuple was intended to be unpacked\n",
       "    into `x`, `y`, and `sample_weight` or passed through\n",
       "    as a single element to `x`.\n",
       "\n",
       "Returns:\n",
       "    A `History` object. Its `History.history` attribute is\n",
       "    a record of training loss values and metrics values\n",
       "    at successive epochs, as well as validation loss values\n",
       "    and validation metrics values (if applicable).\n",
       "\u001b[1;31mFile:\u001b[0m      c:\\programdata\\anaconda3\\lib\\site-packages\\keras\\src\\backend\\tensorflow\\trainer.py\n",
       "\u001b[1;31mType:\u001b[0m      method"
      ]
     },
     "metadata": {},
     "output_type": "display_data"
    }
   ],
   "source": [
    "?model.fit"
   ]
  },
  {
   "cell_type": "code",
   "execution_count": 22,
   "id": "b68847ab-0050-4bd6-a361-569b9bfd9dfc",
   "metadata": {},
   "outputs": [
    {
     "data": {
      "text/plain": [
       "dict_keys(['accuracy', 'loss', 'val_accuracy', 'val_loss'])"
      ]
     },
     "execution_count": 22,
     "metadata": {},
     "output_type": "execute_result"
    }
   ],
   "source": [
    "history.history.keys()"
   ]
  },
  {
   "cell_type": "code",
   "execution_count": 23,
   "id": "4e8bfd4c-9058-471a-81bc-76d15c0e77ed",
   "metadata": {},
   "outputs": [
    {
     "data": {
      "text/plain": [
       "<matplotlib.legend.Legend at 0x19f1325df10>"
      ]
     },
     "execution_count": 23,
     "metadata": {},
     "output_type": "execute_result"
    },
    {
     "data": {
      "image/png": "[encoded data removed]",
      "text/plain": [
       "<Figure size 640x480 with 1 Axes>"
      ]
     },
     "metadata": {},
     "output_type": "display_data"
    }
   ],
   "source": [
    "plt.title(\"Model Accuracy\")\n",
    "plt.plot(history.history['val_accuracy'])\n",
    "plt.plot(history.history['accuracy'])\n",
    "plt.legend(['val', 'train'])"
   ]
  },
  {
   "cell_type": "code",
   "execution_count": 24,
   "id": "3494d035-ec9f-4f73-8d88-c9edbec17eae",
   "metadata": {},
   "outputs": [
    {
     "data": {
      "text/plain": [
       "<matplotlib.legend.Legend at 0x19f1a404c10>"
      ]
     },
     "execution_count": 24,
     "metadata": {},
     "output_type": "execute_result"
    },
    {
     "data": {
      "image/png": "[encoded data removed]",
      "text/plain": [
       "<Figure size 640x480 with 1 Axes>"
      ]
     },
     "metadata": {},
     "output_type": "display_data"
    }
   ],
   "source": [
    "plt.title(\"Model Loss\")\n",
    "plt.plot(history.history['val_loss'])\n",
    "plt.plot(history.history['loss'])\n",
    "plt.legend(['val', 'loss'])"
   ]
  },
  {
   "cell_type": "markdown",
   "id": "44ccbe91-094f-4b01-952b-22478fbb7ae7",
   "metadata": {},
   "source": [
    "## Evaluate model"
   ]
  },
  {
   "cell_type": "code",
   "execution_count": 25,
   "id": "77ecc57c-a42c-4606-a26e-2077c5d017bc",
   "metadata": {},
   "outputs": [
    {
     "name": "stdout",
     "output_type": "stream",
     "text": [
      "\u001b[1m313/313\u001b[0m \u001b[32m━━━━━━━━━━━━━━━━━━━━\u001b[0m\u001b[37m\u001b[0m \u001b[1m0s\u001b[0m 1ms/step - accuracy: 0.9539 - loss: 0.1826\n"
     ]
    }
   ],
   "source": [
    "# Use un-seen data:\n",
    "loss, acc = model.evaluate(x_test, y_test)"
   ]
  },
  {
   "cell_type": "code",
   "execution_count": 26,
   "id": "88ee62e4-7ac1-4e5d-8bc3-d1d454a565ad",
   "metadata": {},
   "outputs": [
    {
     "name": "stdout",
     "output_type": "stream",
     "text": [
      "Loss: 0.15 , Accuracy: 0.96\n"
     ]
    }
   ],
   "source": [
    "print(f'Loss: {loss:.2f} , Accuracy: {acc:.2f}')"
   ]
  },
  {
   "cell_type": "code",
   "execution_count": 27,
   "id": "228c4090-444b-4872-8276-77dd4569178a",
   "metadata": {},
   "outputs": [
    {
     "name": "stdout",
     "output_type": "stream",
     "text": [
      "\u001b[1m313/313\u001b[0m \u001b[32m━━━━━━━━━━━━━━━━━━━━\u001b[0m\u001b[37m\u001b[0m \u001b[1m0s\u001b[0m 1ms/step\n"
     ]
    }
   ],
   "source": [
    "pred = model.predict(x_test)"
   ]
  },
  {
   "cell_type": "code",
   "execution_count": 28,
   "id": "3e05a6de-e912-4031-a132-0f4233f8c09f",
   "metadata": {},
   "outputs": [
    {
     "data": {
      "text/plain": [
       "(10000, 10)"
      ]
     },
     "execution_count": 28,
     "metadata": {},
     "output_type": "execute_result"
    }
   ],
   "source": [
    "pred.shape"
   ]
  },
  {
   "cell_type": "code",
   "execution_count": 29,
   "id": "e00754db-f313-4dae-bcab-fd1672980816",
   "metadata": {},
   "outputs": [
    {
     "name": "stdout",
     "output_type": "stream",
     "text": [
      "Original label: 7\n",
      "One Hot  label: [0. 0. 0. 0. 0. 0. 0. 1. 0. 0.]\n",
      "Max value argument: 355\n",
      "Max value : 255\n",
      "\n",
      "Predicted label: \n",
      "[8.4995219e-16 3.0453330e-20 4.2444902e-14 4.6847620e-07 2.7582002e-17\n",
      " 5.1484532e-11 7.3458551e-23 9.9999952e-01 1.3652351e-11 2.5368488e-08]\n",
      "\n",
      "Max value argument: 7\n",
      "Max value : 0.9999995231628418\n"
     ]
    }
   ],
   "source": [
    "print(f'Original label: {y_test_org[0]}')\n",
    "print(f'One Hot  label: {y_test[0]}')\n",
    "# print(x_test_org[0])\n",
    "print('Max value argument:', x_test_org[0].argmax())\n",
    "print(f'Max value : {x_test_org[0].max()}\\n')\n",
    "\n",
    "# Show prediction as array of probabilities\n",
    "print(f'Predicted label: \\n{pred[0]}')\n",
    "\n",
    "# Return Class based on highest probability\n",
    "print('\\nMax value argument:', pred[0].argmax())\n",
    "print(f'Max value : {pred[0].max()}')\n"
   ]
  },
  {
   "cell_type": "code",
   "execution_count": 30,
   "id": "e1ffb4b3-93c6-4012-bd48-6ee335bd2e22",
   "metadata": {},
   "outputs": [
    {
     "data": {
      "text/plain": [
       "array([0.9999995 , 0.9999999 , 0.9995821 , 0.9999988 , 0.999967  ,\n",
       "       0.99989593, 0.99993205, 0.95415956, 0.8856492 , 0.9996927 ,\n",
       "       1.        , 0.9991623 , 0.89691323, 1.        , 0.99999833,\n",
       "       0.9999833 , 0.9950923 , 0.99999964, 0.8815947 , 0.99993384,\n",
       "       0.97297895, 0.99991703, 0.9999982 , 0.99999976, 0.95178515,\n",
       "       1.        , 0.86060923, 0.9999906 , 1.        , 0.99998057,\n",
       "       0.99999976, 0.9988494 , 1.        , 0.9999993 , 0.9998802 ,\n",
       "       0.9999999 , 0.99998796, 0.9979936 , 0.9995028 , 0.9996966 ,\n",
       "       0.92835474, 0.9977825 , 0.9999999 , 0.9997211 , 0.9598165 ,\n",
       "       0.99995196, 0.9999937 , 0.9995327 , 0.9969458 , 0.99991524,\n",
       "       0.99977285, 0.99999857, 0.9999975 , 0.9995857 , 1.        ,\n",
       "       0.99851733, 0.99999917, 0.99997425, 0.99752265, 0.99961424,\n",
       "       1.        , 0.9997539 , 0.7306125 , 0.99951816, 0.99999857,\n",
       "       0.9630809 , 0.99929607, 0.9999796 , 1.        , 0.99999976,\n",
       "       0.9999993 , 1.        , 0.99999857, 0.9993285 , 0.996062  ,\n",
       "       1.        , 0.999514  , 0.9782575 , 0.9898783 , 0.9999728 ,\n",
       "       0.9994937 , 0.99999976, 1.        , 0.9996685 , 0.99962807,\n",
       "       0.99999297, 0.99999964, 0.99934155, 0.99999976, 0.99998796,\n",
       "       0.9999958 , 0.9999536 , 0.9992409 , 1.        , 0.99997056,\n",
       "       0.9997496 , 0.50309974, 0.99851805, 0.9997429 , 0.99998677],\n",
       "      dtype=float32)"
      ]
     },
     "execution_count": 30,
     "metadata": {},
     "output_type": "execute_result"
    }
   ],
   "source": [
    "pred.max(axis=1)[:100]"
   ]
  },
  {
   "cell_type": "code",
   "execution_count": 31,
   "id": "bd369a89-02d8-4df0-a97a-004ec5c85a3f",
   "metadata": {},
   "outputs": [
    {
     "data": {
      "text/plain": [
       "array([7, 2, 1, 0, 4, 1, 4, 3, 5, 9, 0, 6, 9, 0, 1, 5, 9, 7, 8, 4, 9, 6,\n",
       "       6, 5, 4, 0, 7, 4, 0, 1, 3, 1, 3, 4, 7, 2, 7, 1, 2, 1, 1, 7, 4, 2,\n",
       "       3, 5, 1, 2, 4, 4, 6, 3, 5, 5, 6, 0, 4, 1, 9, 5, 7, 8, 8, 3, 7, 4,\n",
       "       6, 4, 3, 0, 7, 0, 2, 9, 1, 7, 3, 2, 9, 7, 7, 6, 2, 7, 8, 4, 7, 3,\n",
       "       6, 1, 3, 6, 9, 3, 1, 4, 4, 7, 6, 9], dtype=int64)"
      ]
     },
     "execution_count": 31,
     "metadata": {},
     "output_type": "execute_result"
    }
   ],
   "source": [
    "pred.argmax(axis=1)[:100]"
   ]
  },
  {
   "cell_type": "code",
   "execution_count": 32,
   "id": "28803893-ef41-4839-a37b-8ad39bb192ed",
   "metadata": {},
   "outputs": [
    {
     "data": {
      "text/plain": [
       "array([7, 2, 1, 0, 4, 1, 4, 9, 5, 9, 0, 6, 9, 0, 1, 5, 9, 7, 3, 4, 9, 6,\n",
       "       6, 5, 4, 0, 7, 4, 0, 1, 3, 1, 3, 4, 7, 2, 7, 1, 2, 1, 1, 7, 4, 2,\n",
       "       3, 5, 1, 2, 4, 4, 6, 3, 5, 5, 6, 0, 4, 1, 9, 5, 7, 8, 9, 3, 7, 4,\n",
       "       6, 4, 3, 0, 7, 0, 2, 9, 1, 7, 3, 2, 9, 7, 7, 6, 2, 7, 8, 4, 7, 3,\n",
       "       6, 1, 3, 6, 9, 3, 1, 4, 1, 7, 6, 9], dtype=int64)"
      ]
     },
     "execution_count": 32,
     "metadata": {},
     "output_type": "execute_result"
    }
   ],
   "source": [
    "y_test.argmax(axis=1)[:100]"
   ]
  },
  {
   "cell_type": "code",
   "execution_count": 33,
   "id": "6c1ea5b6-b723-44bc-a5e8-35b6b352ab02",
   "metadata": {},
   "outputs": [
    {
     "data": {
      "text/plain": [
       "0.9614"
      ]
     },
     "execution_count": 33,
     "metadata": {},
     "output_type": "execute_result"
    }
   ],
   "source": [
    "np.mean(pred.argmax(axis=1) == y_test.argmax(axis=1))"
   ]
  },
  {
   "cell_type": "code",
   "execution_count": 34,
   "id": "0307b486-e2ce-464b-8b81-046688aceead",
   "metadata": {},
   "outputs": [],
   "source": [
    "from sklearn.metrics import confusion_matrix, classification_report"
   ]
  },
  {
   "cell_type": "code",
   "execution_count": 35,
   "id": "730c1a47-6051-4700-af9b-97fcc2dd3aa1",
   "metadata": {},
   "outputs": [
    {
     "name": "stdout",
     "output_type": "stream",
     "text": [
      "              precision    recall  f1-score   support\n",
      "\n",
      "           0       0.96      0.98      0.97       980\n",
      "           1       0.97      0.99      0.98      1135\n",
      "           2       0.97      0.96      0.96      1032\n",
      "           3       0.94      0.97      0.95      1010\n",
      "           4       0.96      0.96      0.96       982\n",
      "           5       0.97      0.95      0.96       892\n",
      "           6       0.98      0.96      0.97       958\n",
      "           7       0.97      0.96      0.96      1028\n",
      "           8       0.95      0.94      0.95       974\n",
      "           9       0.94      0.95      0.95      1009\n",
      "\n",
      "    accuracy                           0.96     10000\n",
      "   macro avg       0.96      0.96      0.96     10000\n",
      "weighted avg       0.96      0.96      0.96     10000\n",
      "\n"
     ]
    }
   ],
   "source": [
    "print(classification_report(y_true=y_test_org, y_pred=pred.argmax(axis=1)))"
   ]
  },
  {
   "cell_type": "code",
   "execution_count": 36,
   "id": "2862f7fa-ff2c-4317-ace6-ab9f2ab03676",
   "metadata": {},
   "outputs": [
    {
     "name": "stdout",
     "output_type": "stream",
     "text": [
      "[[ 962    0    2    2    2    1    1    2    2    6]\n",
      " [   0 1123    1    2    2    0    4    0    3    0]\n",
      " [   5    5  992   10    3    1    1    8    6    1]\n",
      " [   1    1    6  976    2    6    0    4    8    6]\n",
      " [   3    4    3    0  945    1    3    1    3   19]\n",
      " [   4    2    1   19    2  843    6    1   10    4]\n",
      " [  12    4    2    1    7    6  920    1    4    1]\n",
      " [   1    9   10    3    4    1    0  982    4   14]\n",
      " [   6    3   10   15    4    7    2    5  914    8]\n",
      " [   3    8    0    7   13    6    0    9    6  957]]\n"
     ]
    }
   ],
   "source": [
    "print(confusion_matrix(y_true=y_test_org, y_pred=pred.argmax(axis=1)))"
   ]
  },
  {
   "cell_type": "code",
   "execution_count": 37,
   "id": "b3e8de57-2ed7-4fb8-9a27-3cae2b517cda",
   "metadata": {},
   "outputs": [
    {
     "data": {
      "image/png": "[encoded data removed]",
      "text/plain": [
       "<Figure size 480x480 with 1 Axes>"
      ]
     },
     "metadata": {},
     "output_type": "display_data"
    }
   ],
   "source": [
    "plt.matshow(confusion_matrix(y_true=y_test_org, y_pred=pred.argmax(axis=1)), cmap='BuPu')\n",
    "plt.xticks(range(10));\n",
    "plt.yticks(range(10));\n",
    "plt.xlabel(\"predicted Label\");\n",
    "plt.ylabel(\"True Label\");\n"
   ]
  },
  {
   "cell_type": "markdown",
   "id": "c020bf6b-b4c5-4d98-9787-5695d6d45f5f",
   "metadata": {},
   "source": [
    "## Save Model"
   ]
  },
  {
   "cell_type": "code",
   "execution_count": 48,
   "id": "4755cf51-2dc6-40c4-b83d-fcacc67c1933",
   "metadata": {},
   "outputs": [],
   "source": [
    "model.save('models/model_basic_mlp.keras')\n",
    "model.save_weights('models/model_basic_mlp.weights.h5')"
   ]
  }
 ],
 "metadata": {
  "kernelspec": {
   "display_name": "Python 3 (ipykernel)",
   "language": "python",
   "name": "python3"
  },
  "language_info": {
   "codemirror_mode": {
    "name": "ipython",
    "version": 3
   },
   "file_extension": ".py",
   "mimetype": "text/x-python",
   "name": "python",
   "nbconvert_exporter": "python",
   "pygments_lexer": "ipython3",
   "version": "3.11.7"
  }
 },
 "nbformat": 4,
 "nbformat_minor": 5
}
